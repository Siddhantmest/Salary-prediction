{
 "cells": [
  {
   "cell_type": "markdown",
   "metadata": {},
   "source": [
    "## Importing Relevant Libraries"
   ]
  },
  {
   "cell_type": "code",
   "execution_count": 1,
   "metadata": {},
   "outputs": [],
   "source": [
    "import numpy as np\n",
    "import pandas as pd\n",
    "from sklearn.preprocessing import StandardScaler, LabelEncoder\n",
    "from sklearn.linear_model import LogisticRegression, Lasso\n",
    "from sklearn.model_selection import train_test_split, KFold, learning_curve, GridSearchCV\n",
    "from sklearn.metrics import make_scorer, confusion_matrix, accuracy_score, log_loss\n",
    "import matplotlib.pyplot as plt\n",
    "import seaborn as sns\n",
    "import random \n",
    "from sklearn.tree import DecisionTreeClassifier\n",
    "from sklearn.ensemble import RandomForestClassifier\n",
    "from sklearn.feature_selection import SelectFromModel\n",
    "from sklearn.model_selection import cross_val_score\n",
    "import itertools\n",
    "\n",
    "sns.set_style('whitegrid')\n",
    "\n",
    "# The following line is needed to show plots inline in notebooks\n",
    "%matplotlib inline "
   ]
  },
  {
   "cell_type": "markdown",
   "metadata": {},
   "source": [
    "### Creating Data Set"
   ]
  },
  {
   "cell_type": "code",
   "execution_count": 2,
   "metadata": {},
   "outputs": [
    {
     "data": {
      "text/plain": [
       "(23860, 395)"
      ]
     },
     "execution_count": 2,
     "metadata": {},
     "output_type": "execute_result"
    }
   ],
   "source": [
    "Salaries = pd.read_csv(\"multipleChoiceResponses.csv\", low_memory = False)\n",
    "Salaries.shape"
   ]
  },
  {
   "cell_type": "markdown",
   "metadata": {},
   "source": [
    "### Drop rows missing target variable"
   ]
  },
  {
   "cell_type": "code",
   "execution_count": 3,
   "metadata": {},
   "outputs": [],
   "source": [
    "Salaries.dropna(subset=['Q9'],inplace=True)"
   ]
  },
  {
   "cell_type": "markdown",
   "metadata": {},
   "source": [
    "## Data Cleaning"
   ]
  },
  {
   "cell_type": "code",
   "execution_count": 4,
   "metadata": {
    "scrolled": true
   },
   "outputs": [
    {
     "data": {
      "text/plain": [
       "array(['What is your current yearly compensation (approximate $USD)?',\n",
       "       '10-20,000', '0-10,000',\n",
       "       'I do not wish to disclose my approximate yearly compensation',\n",
       "       '20-30,000', '125-150,000', '30-40,000', '50-60,000',\n",
       "       '100-125,000', '90-100,000', '70-80,000', '80-90,000', '60-70,000',\n",
       "       '400-500,000', '40-50,000', '150-200,000', '500,000+',\n",
       "       '300-400,000', '200-250,000', '250-300,000'], dtype=object)"
      ]
     },
     "execution_count": 4,
     "metadata": {},
     "output_type": "execute_result"
    }
   ],
   "source": [
    "Salaries.Q9.unique()"
   ]
  },
  {
   "cell_type": "code",
   "execution_count": 5,
   "metadata": {},
   "outputs": [],
   "source": [
    "Salaries = Salaries[Salaries['Q9']!= \"I do not wish to disclose my approximate yearly compensation\"] #For dropping the rows where salary is not disclosed"
   ]
  },
  {
   "cell_type": "code",
   "execution_count": 6,
   "metadata": {},
   "outputs": [],
   "source": [
    "Salaries.loc[1:,'index'] = Salaries[1:].reset_index().index #To add a index column"
   ]
  },
  {
   "cell_type": "markdown",
   "metadata": {},
   "source": [
    "### Selecting the non useful Columns \n",
    "1. Time taken to fill the survey does not help in determing the salary of the person\n",
    "2. Q18 - Recommendation is not useful in determing the salary of the person\n",
    "3. Q23 - In my opinion data analysis is how you get insight from the data and not how much time you spent on coding thus it is not useful in determing the salary of the person\n",
    "4. Q26 - Opinion is not useful in determing the salary of the person\n",
    "5. Q37 - Same as Q36 it will cause overfitting the model\n",
    "6. Q40 - Recommendation is not useful in determing the salary of the person\n",
    "7. Q43 - In my opinion the type of data set might not be helpful in determing the salary of the person\n",
    "8. Q46 - In my opinion the type of project might not be helpful in determing the salary of the person\n",
    "9. Q48 - Opinion is not useful in determing the salary of the person"
   ]
  },
  {
   "cell_type": "code",
   "execution_count": 7,
   "metadata": {},
   "outputs": [],
   "source": [
    "Salaries = Salaries.drop([0], axis=0) #Dropping the questions row\n",
    "#Code to drop single columns\n",
    "Salaries.drop(labels=['Time from Start to Finish (seconds)', 'Q18', 'Q23', 'Q26', 'Q37', 'Q40', 'Q43', 'Q46', 'Q48'], axis=1, inplace=True)"
   ]
  },
  {
   "cell_type": "markdown",
   "metadata": {},
   "source": [
    "### Selecting the non useful Questions\n",
    "Q16, 19, 21, 31 are same as Q17, 20, 22, 32 and this would result in overfitting the data.\n",
    "\n",
    "Rest of the questions relate to opinoins; recommendations; which platform did they use for study; resources and which media do they follow, which will not be helpful in determing the salary of the person.\n",
    "\n",
    "Q34 - In my opinion the time spent on each module of data projects has no connection with determing the salary of the person"
   ]
  },
  {
   "cell_type": "code",
   "execution_count": 8,
   "metadata": {},
   "outputs": [],
   "source": [
    "# Code to select multiple columns\n",
    "ctod = ['_OTHER', 'Q33', 'Q34', 'Q35', 'Q36', 'Q38', 'Q39', 'Q44', 'Q45', 'Q49', 'Q50', 'Q12_Part', 'Q16', 'Q19', 'Q21', 'Q31',\n",
    "       'Q41', 'Q47']\n",
    "\n",
    "cols_append = []\n",
    "\n",
    "for i in ctod:\n",
    "    df = Salaries.filter(regex=i) \n",
    "    cols_append.append(df.columns)\n",
    "\n",
    "cols_to_drop = list(itertools.chain.from_iterable(cols_append))"
   ]
  },
  {
   "cell_type": "code",
   "execution_count": 9,
   "metadata": {},
   "outputs": [],
   "source": [
    "Salaries.drop(labels=cols_to_drop, axis=1, inplace=True) #Dropping the irrelevant columns"
   ]
  },
  {
   "cell_type": "code",
   "execution_count": 10,
   "metadata": {},
   "outputs": [
    {
     "data": {
      "text/plain": [
       "array(['30-34', '22-24', '35-39', '18-21', '40-44', '25-29', '55-59',\n",
       "       '60-69', '45-49', '50-54', '80+', '70-79'], dtype=object)"
      ]
     },
     "execution_count": 10,
     "metadata": {},
     "output_type": "execute_result"
    }
   ],
   "source": [
    "Salaries.Q2.unique() #Checking for any undesired entries in a column"
   ]
  },
  {
   "cell_type": "code",
   "execution_count": 11,
   "metadata": {},
   "outputs": [
    {
     "data": {
      "text/plain": [
       "array(['5-10', '0-1', '10-15', '3-4', nan, '1-2', '2-3', '15-20', '4-5',\n",
       "       '25-30', '20-25', '30 +'], dtype=object)"
      ]
     },
     "execution_count": 11,
     "metadata": {},
     "output_type": "execute_result"
    }
   ],
   "source": [
    "Salaries.Q8.unique() #Checking for any undesired entries in a column"
   ]
  },
  {
   "cell_type": "code",
   "execution_count": 12,
   "metadata": {},
   "outputs": [
    {
     "data": {
      "text/plain": [
       "0-1      3879\n",
       "1-2      2826\n",
       "5-10     1973\n",
       "2-3      1965\n",
       "3-4      1308\n",
       "4-5      1145\n",
       "10-15    1123\n",
       "15-20     595\n",
       "20-25     271\n",
       "30 +      144\n",
       "25-30     124\n",
       "NaN        76\n",
       "Name: Q8, dtype: int64"
      ]
     },
     "execution_count": 12,
     "metadata": {},
     "output_type": "execute_result"
    }
   ],
   "source": [
    "Salaries.Q8.value_counts(dropna = False)"
   ]
  },
  {
   "cell_type": "markdown",
   "metadata": {},
   "source": [
    "Filling the NaN data with random value as mode doesn't span much of the data"
   ]
  },
  {
   "cell_type": "code",
   "execution_count": 13,
   "metadata": {
    "scrolled": true
   },
   "outputs": [],
   "source": [
    "random.seed(1)\n",
    "Salaries['Q8'].fillna(random.choice(Salaries['Q8'].dropna().values), inplace= True) "
   ]
  },
  {
   "cell_type": "markdown",
   "metadata": {},
   "source": [
    "As my split('-') won't be able to identify + thus changing the + to - and after dropping the rows again replace the - with the +."
   ]
  },
  {
   "cell_type": "code",
   "execution_count": 14,
   "metadata": {
    "scrolled": true
   },
   "outputs": [],
   "source": [
    "change = Salaries[Salaries['Q2'] == '80+'].index   \n",
    "for i in change:\n",
    "    Salaries.at[i,'Q2'] = '80-'"
   ]
  },
  {
   "cell_type": "markdown",
   "metadata": {},
   "source": [
    "#### Removing those rows where the difference between age and experience is less than 10 years as it is not possible to have experience in that role since the person was age 10. It is possible in 2 cases either the person didn’t understood the question or was not taking the survey seriously."
   ]
  },
  {
   "cell_type": "code",
   "execution_count": 15,
   "metadata": {},
   "outputs": [],
   "source": [
    "compare = Salaries[(pd.to_numeric(Salaries['Q2'].str.split('-').str[0]) <=40) & (Salaries['Q8'] == '30 +')]\n",
    "compare = compare.append(Salaries[(pd.to_numeric(Salaries['Q2'].str.split('-').str[0]) <=30) & (Salaries['Q8'] == '25-30')])\n",
    "compare = compare.append(Salaries[(pd.to_numeric(Salaries['Q2'].str.split('-').str[0]) <=30) & (Salaries['Q8'] == '20-25')])\n",
    "compare = compare.append(Salaries[(pd.to_numeric(Salaries['Q2'].str.split('-').str[0]) <=25) & (Salaries['Q8'] == '15-20')])\n",
    "compare = compare.append(Salaries[(pd.to_numeric(Salaries['Q2'].str.split('-').str[0]) <=22) & (Salaries['Q8'] == '10-15')])\n",
    "compare = compare.append(Salaries[(Salaries['Q2'] =='18-21') & (Salaries['Q8'] == '5-10')])\n",
    "rows_to_drop = compare.index"
   ]
  },
  {
   "cell_type": "code",
   "execution_count": 16,
   "metadata": {},
   "outputs": [],
   "source": [
    "Salaries.drop(labels=rows_to_drop, axis = 0, inplace = True)"
   ]
  },
  {
   "cell_type": "code",
   "execution_count": 17,
   "metadata": {},
   "outputs": [],
   "source": [
    "change1 = Salaries[Salaries['Q9'] == '500,000+'].index   \n",
    "for i in change1:\n",
    "    Salaries.at[i,'Q9'] = '600000-'"
   ]
  },
  {
   "cell_type": "code",
   "execution_count": 18,
   "metadata": {},
   "outputs": [],
   "source": [
    "change2 = Salaries[Salaries['Q8'] == '30 +'].index   \n",
    "for i in change2:\n",
    "    Salaries.at[i,'Q8'] = '30-'"
   ]
  },
  {
   "cell_type": "code",
   "execution_count": 19,
   "metadata": {},
   "outputs": [],
   "source": [
    "row_drop = []\n",
    "# It is not possible for a person less than 60 years old to have a salary more than 300,000\n",
    "row_drop = Salaries[(pd.to_numeric(Salaries['Q2'].str.split('-').str[0]) <60) & (pd.to_numeric(Salaries['Q9'].str.split('-').str[0]) >=300)]\n",
    "# It is not possible for a person less than 22 years old to have a salary more than 200,000\n",
    "row_drop = row_drop.append(Salaries[(pd.to_numeric(Salaries['Q2'].str.split('-').str[0]) <=22) & (pd.to_numeric(Salaries['Q9'].str.split('-').str[0]) >=200)])\n",
    "# It is not possible for a person with less than 2 years experience to have a salary more than 200,000\n",
    "row_drop = row_drop.append(Salaries[(pd.to_numeric(Salaries['Q8'].str.split('-').str[0]) <=1) & (pd.to_numeric(Salaries['Q9'].str.split('-').str[0]) >=200)])\n",
    "row_drop = row_drop.index\n",
    "# Removing any duplicate indexes from the list\n",
    "mylist = list(dict.fromkeys(row_drop))\n",
    "\n",
    "Salaries.drop(labels=mylist, axis = 0, inplace = True)"
   ]
  },
  {
   "cell_type": "code",
   "execution_count": 20,
   "metadata": {},
   "outputs": [],
   "source": [
    "Salaries_new = Salaries.copy(deep =True) #creating a copy of the cleaned data frame"
   ]
  },
  {
   "cell_type": "markdown",
   "metadata": {},
   "source": [
    "#### Analysis of single columns with mutiple entries is easy that's why I am breaking the data frame into 2, Here i will be cleaning the data in the single columns with multiple entries"
   ]
  },
  {
   "cell_type": "code",
   "execution_count": 21,
   "metadata": {},
   "outputs": [],
   "source": [
    "pop_list = ['Q1', 'Q2', 'Q3', 'Q4', 'Q5', 'Q6', 'Q7', 'Q8', 'Q9', 'Q10', 'Q12_MULTIPLE_CHOICE', 'Q17', 'Q20', 'Q22', 'Q24', 'Q25', 'Q32']\n",
    "Single_col = pd.DataFrame([Salaries_new.pop(x) for x in pop_list]).T "
   ]
  },
  {
   "cell_type": "code",
   "execution_count": 22,
   "metadata": {
    "scrolled": false
   },
   "outputs": [
    {
     "data": {
      "text/html": [
       "<div>\n",
       "<style scoped>\n",
       "    .dataframe tbody tr th:only-of-type {\n",
       "        vertical-align: middle;\n",
       "    }\n",
       "\n",
       "    .dataframe tbody tr th {\n",
       "        vertical-align: top;\n",
       "    }\n",
       "\n",
       "    .dataframe thead th {\n",
       "        text-align: right;\n",
       "    }\n",
       "</style>\n",
       "<table border=\"1\" class=\"dataframe\">\n",
       "  <thead>\n",
       "    <tr style=\"text-align: right;\">\n",
       "      <th></th>\n",
       "      <th>Q1</th>\n",
       "      <th>Q2</th>\n",
       "      <th>Q3</th>\n",
       "      <th>Q4</th>\n",
       "      <th>Q5</th>\n",
       "      <th>Q6</th>\n",
       "      <th>Q7</th>\n",
       "      <th>Q8</th>\n",
       "      <th>Q9</th>\n",
       "      <th>Q10</th>\n",
       "      <th>Q12_MULTIPLE_CHOICE</th>\n",
       "      <th>Q17</th>\n",
       "      <th>Q20</th>\n",
       "      <th>Q22</th>\n",
       "      <th>Q24</th>\n",
       "      <th>Q25</th>\n",
       "      <th>Q32</th>\n",
       "    </tr>\n",
       "  </thead>\n",
       "  <tbody>\n",
       "    <tr>\n",
       "      <th>count</th>\n",
       "      <td>15020</td>\n",
       "      <td>15020</td>\n",
       "      <td>15020</td>\n",
       "      <td>15020</td>\n",
       "      <td>14894</td>\n",
       "      <td>15020</td>\n",
       "      <td>15020</td>\n",
       "      <td>15020</td>\n",
       "      <td>15020</td>\n",
       "      <td>14745</td>\n",
       "      <td>13533</td>\n",
       "      <td>10820</td>\n",
       "      <td>9452</td>\n",
       "      <td>9008</td>\n",
       "      <td>13140</td>\n",
       "      <td>13115</td>\n",
       "      <td>10078</td>\n",
       "    </tr>\n",
       "    <tr>\n",
       "      <th>unique</th>\n",
       "      <td>4</td>\n",
       "      <td>12</td>\n",
       "      <td>58</td>\n",
       "      <td>7</td>\n",
       "      <td>13</td>\n",
       "      <td>20</td>\n",
       "      <td>19</td>\n",
       "      <td>11</td>\n",
       "      <td>18</td>\n",
       "      <td>6</td>\n",
       "      <td>6</td>\n",
       "      <td>17</td>\n",
       "      <td>18</td>\n",
       "      <td>12</td>\n",
       "      <td>10</td>\n",
       "      <td>10</td>\n",
       "      <td>12</td>\n",
       "    </tr>\n",
       "    <tr>\n",
       "      <th>top</th>\n",
       "      <td>Male</td>\n",
       "      <td>25-29</td>\n",
       "      <td>United States of America</td>\n",
       "      <td>Master’s degree</td>\n",
       "      <td>Computer science (software engineering, etc.)</td>\n",
       "      <td>Data Scientist</td>\n",
       "      <td>Computers/Technology</td>\n",
       "      <td>0-1</td>\n",
       "      <td>0-10,000</td>\n",
       "      <td>We are exploring ML methods (and may one day p...</td>\n",
       "      <td>Local or hosted development environments (RStu...</td>\n",
       "      <td>Python</td>\n",
       "      <td>Scikit-Learn</td>\n",
       "      <td>Matplotlib</td>\n",
       "      <td>1-2 years</td>\n",
       "      <td>&lt; 1 year</td>\n",
       "      <td>Numerical Data</td>\n",
       "    </tr>\n",
       "    <tr>\n",
       "      <th>freq</th>\n",
       "      <td>12550</td>\n",
       "      <td>4223</td>\n",
       "      <td>3278</td>\n",
       "      <td>7121</td>\n",
       "      <td>5754</td>\n",
       "      <td>3206</td>\n",
       "      <td>4107</td>\n",
       "      <td>3844</td>\n",
       "      <td>4182</td>\n",
       "      <td>3393</td>\n",
       "      <td>6779</td>\n",
       "      <td>5714</td>\n",
       "      <td>4425</td>\n",
       "      <td>4808</td>\n",
       "      <td>3711</td>\n",
       "      <td>4094</td>\n",
       "      <td>2583</td>\n",
       "    </tr>\n",
       "  </tbody>\n",
       "</table>\n",
       "</div>"
      ],
      "text/plain": [
       "           Q1     Q2                        Q3               Q4  \\\n",
       "count   15020  15020                     15020            15020   \n",
       "unique      4     12                        58                7   \n",
       "top      Male  25-29  United States of America  Master’s degree   \n",
       "freq    12550   4223                      3278             7121   \n",
       "\n",
       "                                                   Q5              Q6  \\\n",
       "count                                           14894           15020   \n",
       "unique                                             13              20   \n",
       "top     Computer science (software engineering, etc.)  Data Scientist   \n",
       "freq                                             5754            3206   \n",
       "\n",
       "                          Q7     Q8        Q9  \\\n",
       "count                  15020  15020     15020   \n",
       "unique                    19     11        18   \n",
       "top     Computers/Technology    0-1  0-10,000   \n",
       "freq                    4107   3844      4182   \n",
       "\n",
       "                                                      Q10  \\\n",
       "count                                               14745   \n",
       "unique                                                  6   \n",
       "top     We are exploring ML methods (and may one day p...   \n",
       "freq                                                 3393   \n",
       "\n",
       "                                      Q12_MULTIPLE_CHOICE     Q17  \\\n",
       "count                                               13533   10820   \n",
       "unique                                                  6      17   \n",
       "top     Local or hosted development environments (RStu...  Python   \n",
       "freq                                                 6779    5714   \n",
       "\n",
       "                 Q20         Q22        Q24       Q25             Q32  \n",
       "count           9452        9008      13140     13115           10078  \n",
       "unique            18          12         10        10              12  \n",
       "top     Scikit-Learn  Matplotlib  1-2 years  < 1 year  Numerical Data  \n",
       "freq            4425        4808       3711      4094            2583  "
      ]
     },
     "execution_count": 22,
     "metadata": {},
     "output_type": "execute_result"
    }
   ],
   "source": [
    "Single_col.describe()"
   ]
  },
  {
   "cell_type": "markdown",
   "metadata": {},
   "source": [
    "Plot to check the NaN distribution in Single_col dataframe"
   ]
  },
  {
   "cell_type": "code",
   "execution_count": 23,
   "metadata": {},
   "outputs": [
    {
     "data": {
      "image/png": "[encoded data removed]",
      "text/plain": [
       "<Figure size 864x360 with 1 Axes>"
      ]
     },
     "metadata": {
      "needs_background": "light"
     },
     "output_type": "display_data"
    }
   ],
   "source": [
    "# Heatmap of the null values in the Single_col dataframe\n",
    "fig, ax = plt.subplots(figsize=(12,5))\n",
    "sns.heatmap(Single_col.isnull(), cmap='coolwarm', yticklabels=False, cbar=False, ax=ax) \n",
    "plt.show()"
   ]
  },
  {
   "cell_type": "code",
   "execution_count": 24,
   "metadata": {},
   "outputs": [
    {
     "data": {
      "text/plain": [
       "array(['Male', 'Female', 'Prefer not to say', 'Prefer to self-describe'],\n",
       "      dtype=object)"
      ]
     },
     "execution_count": 24,
     "metadata": {},
     "output_type": "execute_result"
    }
   ],
   "source": [
    "Single_col.Q1.unique() #Checking for any undesired entries in a column"
   ]
  },
  {
   "cell_type": "code",
   "execution_count": 25,
   "metadata": {},
   "outputs": [
    {
     "data": {
      "text/plain": [
       "122"
      ]
     },
     "execution_count": 25,
     "metadata": {},
     "output_type": "execute_result"
    }
   ],
   "source": [
    "len(Single_col[Single_col['Q1']== \"Prefer not to say\"]) "
   ]
  },
  {
   "cell_type": "code",
   "execution_count": 26,
   "metadata": {},
   "outputs": [
    {
     "data": {
      "text/plain": [
       "47"
      ]
     },
     "execution_count": 26,
     "metadata": {},
     "output_type": "execute_result"
    }
   ],
   "source": [
    "len(Single_col[Single_col['Q1']== \"Prefer to self-describe\"])"
   ]
  },
  {
   "cell_type": "markdown",
   "metadata": {},
   "source": [
    "Setting the threshold for null value imputation with the mode if the mode spans atleast 35% of the data. Checking the Single_col describe(), as more than 35% of the data is Male then replacing the values with Male as it won't make much difference as we are imputing for just 168 data points which is approximately 1% of all data points."
   ]
  },
  {
   "cell_type": "code",
   "execution_count": 27,
   "metadata": {},
   "outputs": [],
   "source": [
    "Single_col.at[Single_col['Q1']== \"Prefer not to say\", 'Q1'] = 'Male' \n",
    "Single_col.at[Single_col['Q1']== \"Prefer to self-describe\", 'Q1'] = 'Male' "
   ]
  },
  {
   "cell_type": "code",
   "execution_count": 28,
   "metadata": {},
   "outputs": [
    {
     "data": {
      "text/plain": [
       "array(['Indonesia', 'United States of America', 'India', 'Chile',\n",
       "       'Hungary', 'France', 'Argentina', 'Japan', 'Colombia', 'Nigeria',\n",
       "       'Spain', 'Other', 'Iran, Islamic Republic of...',\n",
       "       'United Kingdom of Great Britain and Northern Ireland', 'Turkey',\n",
       "       'Poland', 'Kenya', 'Denmark', 'Netherlands', 'Sweden', 'Ukraine',\n",
       "       'Canada', 'Australia', 'Russia', 'Italy', 'Mexico', 'Germany',\n",
       "       'I do not wish to disclose my location', 'Singapore', 'Brazil',\n",
       "       'China', 'South Africa', 'South Korea', 'Malaysia',\n",
       "       'Hong Kong (S.A.R.)', 'Portugal', 'Thailand', 'Morocco',\n",
       "       'Pakistan', 'Tunisia', 'Ireland', 'Israel', 'Switzerland',\n",
       "       'Bangladesh', 'Romania', 'Austria', 'Belarus', 'Viet Nam',\n",
       "       'Czech Republic', 'Philippines', 'Belgium', 'New Zealand',\n",
       "       'Norway', 'Finland', 'Egypt', 'Greece', 'Peru',\n",
       "       'Republic of Korea'], dtype=object)"
      ]
     },
     "execution_count": 28,
     "metadata": {},
     "output_type": "execute_result"
    }
   ],
   "source": [
    "Single_col.Q3.unique() #Checking for any undesired entries in a column"
   ]
  },
  {
   "cell_type": "code",
   "execution_count": 29,
   "metadata": {},
   "outputs": [
    {
     "data": {
      "text/plain": [
       "139"
      ]
     },
     "execution_count": 29,
     "metadata": {},
     "output_type": "execute_result"
    }
   ],
   "source": [
    "len(Single_col[Single_col['Q3']== \"I do not wish to disclose my location\"])"
   ]
  },
  {
   "cell_type": "markdown",
   "metadata": {},
   "source": [
    "Checking the Single_col describe(), as the mode doesn't span much of the data then filling the Undesired data with random value."
   ]
  },
  {
   "cell_type": "code",
   "execution_count": 30,
   "metadata": {},
   "outputs": [],
   "source": [
    "random.seed(1)\n",
    "listq = Single_col[Single_col['Q3']== \"I do not wish to disclose my location\"].index\n",
    "varsw = random.choice(Single_col[Single_col['Q3']!= \"I do not wish to disclose my location\"]['Q3'])\n",
    "for i in listq:\n",
    "    Single_col.at[i,'Q3'] = varsw"
   ]
  },
  {
   "cell_type": "code",
   "execution_count": 31,
   "metadata": {},
   "outputs": [
    {
     "data": {
      "text/plain": [
       "array(['Bachelor’s degree', 'Master’s degree', 'Doctoral degree',\n",
       "       'Professional degree',\n",
       "       'Some college/university study without earning a bachelor’s degree',\n",
       "       'I prefer not to answer', 'No formal education past high school'],\n",
       "      dtype=object)"
      ]
     },
     "execution_count": 31,
     "metadata": {},
     "output_type": "execute_result"
    }
   ],
   "source": [
    "Single_col.Q4.unique() #Checking for any undesired entries in a column"
   ]
  },
  {
   "cell_type": "code",
   "execution_count": 32,
   "metadata": {},
   "outputs": [
    {
     "data": {
      "text/plain": [
       "125"
      ]
     },
     "execution_count": 32,
     "metadata": {},
     "output_type": "execute_result"
    }
   ],
   "source": [
    "len(Single_col[Single_col['Q4']== \"I prefer not to answer\"]) "
   ]
  },
  {
   "cell_type": "markdown",
   "metadata": {},
   "source": [
    "Checking the Single_col describe(), as more than 35% of the data is Master’s degree then replacing the values with Master’s degree as it won't make much difference as we are imputing for just 125 data points which is not even 1% of all data points."
   ]
  },
  {
   "cell_type": "code",
   "execution_count": 33,
   "metadata": {},
   "outputs": [],
   "source": [
    "Single_col.at[Single_col['Q4']== \"I prefer not to answer\", 'Q4'] = 'Master’s degree'"
   ]
  },
  {
   "cell_type": "code",
   "execution_count": 34,
   "metadata": {},
   "outputs": [
    {
     "data": {
      "text/plain": [
       "array(['Engineering (non-computer focused)',\n",
       "       'Computer science (software engineering, etc.)',\n",
       "       'Mathematics or statistics',\n",
       "       'Information technology, networking, or system administration',\n",
       "       'A business discipline (accounting, economics, finance, etc.)',\n",
       "       'Environmental science or geology',\n",
       "       'Medical or life sciences (biology, chemistry, medicine, etc.)',\n",
       "       'I never declared a major', 'Other', 'Physics or astronomy',\n",
       "       'Social sciences (anthropology, psychology, sociology, etc.)',\n",
       "       'Humanities (history, literature, philosophy, etc.)', nan,\n",
       "       'Fine arts or performing arts'], dtype=object)"
      ]
     },
     "execution_count": 34,
     "metadata": {},
     "output_type": "execute_result"
    }
   ],
   "source": [
    "Single_col.Q5.unique() #Checking for any undesired entries in a column"
   ]
  },
  {
   "cell_type": "code",
   "execution_count": 35,
   "metadata": {},
   "outputs": [
    {
     "data": {
      "text/plain": [
       "65"
      ]
     },
     "execution_count": 35,
     "metadata": {},
     "output_type": "execute_result"
    }
   ],
   "source": [
    "len(Single_col[Single_col['Q5']== \"I never declared a major\"]) "
   ]
  },
  {
   "cell_type": "markdown",
   "metadata": {},
   "source": [
    "Checking the Single_col describe(), as more than 35% of the data is Computer science (software engineering, etc.) then replacing the values with Computer science (software engineering, etc.) as it won't make much difference as we are imputing for just 65 data points."
   ]
  },
  {
   "cell_type": "code",
   "execution_count": 36,
   "metadata": {},
   "outputs": [],
   "source": [
    "Single_col.at[Single_col['Q5']== \"I never declared a major\", 'Q5'] = 'Computer science (software engineering, etc.)'"
   ]
  },
  {
   "cell_type": "code",
   "execution_count": 37,
   "metadata": {},
   "outputs": [],
   "source": [
    "Single_col['Q5'].fillna('Computer science (software engineering, etc.)', inplace= True)"
   ]
  },
  {
   "cell_type": "code",
   "execution_count": 38,
   "metadata": {},
   "outputs": [
    {
     "data": {
      "text/plain": [
       "array(['Other', 'Data Scientist', 'Data Analyst', 'Software Engineer',\n",
       "       'Student', 'Research Assistant', 'Chief Officer', 'Manager',\n",
       "       'Research Scientist', 'Business Analyst', 'Consultant',\n",
       "       'Data Engineer', 'Developer Advocate', 'Product/Project Manager',\n",
       "       'Marketing Analyst', 'Principal Investigator', 'Salesperson',\n",
       "       'DBA/Database Engineer', 'Statistician', 'Data Journalist'],\n",
       "      dtype=object)"
      ]
     },
     "execution_count": 38,
     "metadata": {},
     "output_type": "execute_result"
    }
   ],
   "source": [
    "Single_col.Q6.unique() #Checking for any undesired entries in a column"
   ]
  },
  {
   "cell_type": "code",
   "execution_count": 39,
   "metadata": {},
   "outputs": [
    {
     "data": {
      "text/plain": [
       "array(['Manufacturing/Fabrication', 'I am a student',\n",
       "       'Academics/Education', 'Other',\n",
       "       'Online Service/Internet-based Services', 'Medical/Pharmaceutical',\n",
       "       'Energy/Mining', 'Retail/Sales', 'Military/Security/Defense',\n",
       "       'Computers/Technology', 'Insurance/Risk Assessment',\n",
       "       'Hospitality/Entertainment/Sports', 'Broadcasting/Communications',\n",
       "       'Accounting/Finance', 'Shipping/Transportation',\n",
       "       'Online Business/Internet-based Sales',\n",
       "       'Government/Public Service', 'Non-profit/Service', 'Marketing/CRM'],\n",
       "      dtype=object)"
      ]
     },
     "execution_count": 39,
     "metadata": {},
     "output_type": "execute_result"
    }
   ],
   "source": [
    "Single_col.Q7.unique() #Checking for any undesired entries in a column"
   ]
  },
  {
   "cell_type": "code",
   "execution_count": 40,
   "metadata": {
    "scrolled": true
   },
   "outputs": [
    {
     "data": {
      "text/plain": [
       "array(['No (we do not use ML methods)', 'I do not know',\n",
       "       'We recently started using ML methods (i.e., models in production for less than 2 years)',\n",
       "       'We have well established ML methods (i.e., models in production for more than 2 years)',\n",
       "       'We are exploring ML methods (and may one day put a model into production)',\n",
       "       'We use ML methods for generating insights (but do not put working models into production)',\n",
       "       nan], dtype=object)"
      ]
     },
     "execution_count": 40,
     "metadata": {},
     "output_type": "execute_result"
    }
   ],
   "source": [
    "Single_col.Q10.unique() #Checking for any undesired entries in a column"
   ]
  },
  {
   "cell_type": "markdown",
   "metadata": {},
   "source": [
    "### Feature Engineering 1\n",
    "We recently started using ML methods (i.e., models in production for less than 2 years), We have well established ML methods (i.e., models in production for more than 2 years), We use ML methods for generating insights (but do not put working models into production) all belong in the category of Yes for the question Does your current employer incorporate machine learning methods into their business? Thus reducing the number of response categories."
   ]
  },
  {
   "cell_type": "code",
   "execution_count": 41,
   "metadata": {},
   "outputs": [
    {
     "data": {
      "text/plain": [
       "We are exploring ML methods (and may one day put a model into production)                    3393\n",
       "No (we do not use ML methods)                                                                3321\n",
       "We recently started using ML methods (i.e., models in production for less than 2 years)      2951\n",
       "We have well established ML methods (i.e., models in production for more than 2 years)       2184\n",
       "We use ML methods for generating insights (but do not put working models into production)    1606\n",
       "I do not know                                                                                1290\n",
       "NaN                                                                                           275\n",
       "Name: Q10, dtype: int64"
      ]
     },
     "execution_count": 41,
     "metadata": {},
     "output_type": "execute_result"
    }
   ],
   "source": [
    "Single_col.Q10.value_counts(dropna = False)"
   ]
  },
  {
   "cell_type": "code",
   "execution_count": 42,
   "metadata": {},
   "outputs": [],
   "source": [
    "Single_col.at[Single_col['Q10']== \"No (we do not use ML methods)\", 'Q10'] = 'No'\n",
    "Single_col.at[Single_col['Q10']== \"We recently started using ML methods (i.e., models in production for less than 2 years)\", 'Q10'] = 'Yes'\n",
    "Single_col.at[Single_col['Q10']== \"We have well established ML methods (i.e., models in production for more than 2 years)\", 'Q10'] = 'Yes'\n",
    "Single_col.at[Single_col['Q10']== \"We use ML methods for generating insights (but do not put working models into production)\", 'Q10'] = 'Yes'"
   ]
  },
  {
   "cell_type": "markdown",
   "metadata": {},
   "source": [
    "As mode is more than 35% of the data then replacing the NaN values with the mode as it won't make much difference as we are imputing for 277 data points which is almost 1.7% of all data points."
   ]
  },
  {
   "cell_type": "code",
   "execution_count": 43,
   "metadata": {},
   "outputs": [],
   "source": [
    "Single_col['Q10'].fillna(value = 'Yes', inplace = True)"
   ]
  },
  {
   "cell_type": "markdown",
   "metadata": {},
   "source": [
    "As mode is predominant in the column thus replacing the NaN values with the mode"
   ]
  },
  {
   "cell_type": "code",
   "execution_count": 44,
   "metadata": {},
   "outputs": [],
   "source": [
    "Single_col['Q12_MULTIPLE_CHOICE'].fillna(value = Single_col['Q12_MULTIPLE_CHOICE'].mode()[0], inplace = True)"
   ]
  },
  {
   "cell_type": "markdown",
   "metadata": {},
   "source": [
    "As the mode doesn't span much of the data then filling the NaN data with random values for the questions Q17, 20, 22, 24, 25, 32."
   ]
  },
  {
   "cell_type": "code",
   "execution_count": 45,
   "metadata": {},
   "outputs": [
    {
     "data": {
      "text/html": [
       "<div>\n",
       "<style scoped>\n",
       "    .dataframe tbody tr th:only-of-type {\n",
       "        vertical-align: middle;\n",
       "    }\n",
       "\n",
       "    .dataframe tbody tr th {\n",
       "        vertical-align: top;\n",
       "    }\n",
       "\n",
       "    .dataframe thead th {\n",
       "        text-align: right;\n",
       "    }\n",
       "</style>\n",
       "<table border=\"1\" class=\"dataframe\">\n",
       "  <thead>\n",
       "    <tr style=\"text-align: right;\">\n",
       "      <th></th>\n",
       "      <th>Q1</th>\n",
       "      <th>Q2</th>\n",
       "      <th>Q3</th>\n",
       "      <th>Q4</th>\n",
       "      <th>Q5</th>\n",
       "      <th>Q6</th>\n",
       "      <th>Q7</th>\n",
       "      <th>Q8</th>\n",
       "      <th>Q9</th>\n",
       "      <th>Q10</th>\n",
       "      <th>Q12_MULTIPLE_CHOICE</th>\n",
       "      <th>Q17</th>\n",
       "      <th>Q20</th>\n",
       "      <th>Q22</th>\n",
       "      <th>Q24</th>\n",
       "      <th>Q25</th>\n",
       "      <th>Q32</th>\n",
       "    </tr>\n",
       "  </thead>\n",
       "  <tbody>\n",
       "    <tr>\n",
       "      <th>count</th>\n",
       "      <td>15020</td>\n",
       "      <td>15020</td>\n",
       "      <td>15020</td>\n",
       "      <td>15020</td>\n",
       "      <td>15020</td>\n",
       "      <td>15020</td>\n",
       "      <td>15020</td>\n",
       "      <td>15020</td>\n",
       "      <td>15020</td>\n",
       "      <td>15020</td>\n",
       "      <td>15020</td>\n",
       "      <td>15020</td>\n",
       "      <td>15020</td>\n",
       "      <td>15020</td>\n",
       "      <td>15020</td>\n",
       "      <td>15020</td>\n",
       "      <td>15020</td>\n",
       "    </tr>\n",
       "    <tr>\n",
       "      <th>unique</th>\n",
       "      <td>2</td>\n",
       "      <td>12</td>\n",
       "      <td>57</td>\n",
       "      <td>6</td>\n",
       "      <td>12</td>\n",
       "      <td>20</td>\n",
       "      <td>19</td>\n",
       "      <td>11</td>\n",
       "      <td>18</td>\n",
       "      <td>4</td>\n",
       "      <td>6</td>\n",
       "      <td>17</td>\n",
       "      <td>18</td>\n",
       "      <td>12</td>\n",
       "      <td>10</td>\n",
       "      <td>10</td>\n",
       "      <td>12</td>\n",
       "    </tr>\n",
       "    <tr>\n",
       "      <th>top</th>\n",
       "      <td>Male</td>\n",
       "      <td>25-29</td>\n",
       "      <td>United States of America</td>\n",
       "      <td>Master’s degree</td>\n",
       "      <td>Computer science (software engineering, etc.)</td>\n",
       "      <td>Data Scientist</td>\n",
       "      <td>Computers/Technology</td>\n",
       "      <td>0-1</td>\n",
       "      <td>0-10,000</td>\n",
       "      <td>Yes</td>\n",
       "      <td>Local or hosted development environments (RStu...</td>\n",
       "      <td>Python</td>\n",
       "      <td>TensorFlow</td>\n",
       "      <td>Seaborn</td>\n",
       "      <td>3-5 years</td>\n",
       "      <td>&lt; 1 year</td>\n",
       "      <td>Numerical Data</td>\n",
       "    </tr>\n",
       "    <tr>\n",
       "      <th>freq</th>\n",
       "      <td>12719</td>\n",
       "      <td>4223</td>\n",
       "      <td>3417</td>\n",
       "      <td>7246</td>\n",
       "      <td>5945</td>\n",
       "      <td>3206</td>\n",
       "      <td>4107</td>\n",
       "      <td>3844</td>\n",
       "      <td>4182</td>\n",
       "      <td>7016</td>\n",
       "      <td>8266</td>\n",
       "      <td>5714</td>\n",
       "      <td>6884</td>\n",
       "      <td>6977</td>\n",
       "      <td>4986</td>\n",
       "      <td>4094</td>\n",
       "      <td>7525</td>\n",
       "    </tr>\n",
       "  </tbody>\n",
       "</table>\n",
       "</div>"
      ],
      "text/plain": [
       "           Q1     Q2                        Q3               Q4  \\\n",
       "count   15020  15020                     15020            15020   \n",
       "unique      2     12                        57                6   \n",
       "top      Male  25-29  United States of America  Master’s degree   \n",
       "freq    12719   4223                      3417             7246   \n",
       "\n",
       "                                                   Q5              Q6  \\\n",
       "count                                           15020           15020   \n",
       "unique                                             12              20   \n",
       "top     Computer science (software engineering, etc.)  Data Scientist   \n",
       "freq                                             5945            3206   \n",
       "\n",
       "                          Q7     Q8        Q9    Q10  \\\n",
       "count                  15020  15020     15020  15020   \n",
       "unique                    19     11        18      4   \n",
       "top     Computers/Technology    0-1  0-10,000    Yes   \n",
       "freq                    4107   3844      4182   7016   \n",
       "\n",
       "                                      Q12_MULTIPLE_CHOICE     Q17         Q20  \\\n",
       "count                                               15020   15020       15020   \n",
       "unique                                                  6      17          18   \n",
       "top     Local or hosted development environments (RStu...  Python  TensorFlow   \n",
       "freq                                                 8266    5714        6884   \n",
       "\n",
       "            Q22        Q24       Q25             Q32  \n",
       "count     15020      15020     15020           15020  \n",
       "unique       12         10        10              12  \n",
       "top     Seaborn  3-5 years  < 1 year  Numerical Data  \n",
       "freq       6977       4986      4094            7525  "
      ]
     },
     "execution_count": 45,
     "metadata": {},
     "output_type": "execute_result"
    }
   ],
   "source": [
    "random.seed(1)\n",
    "Single_col['Q17'].fillna(random.choice(Single_col['Q17'].dropna().values), inplace= True)\n",
    "Single_col['Q20'].fillna(random.choice(Single_col['Q20'].dropna().values), inplace= True)\n",
    "Single_col['Q22'].fillna(random.choice(Single_col['Q22'].dropna().values), inplace= True) \n",
    "Single_col['Q24'].fillna(random.choice(Single_col['Q24'].dropna().values), inplace= True)\n",
    "Single_col['Q25'].fillna(random.choice(Single_col['Q24'].dropna().values), inplace= True)\n",
    "Single_col['Q32'].fillna(random.choice(Single_col['Q32'].dropna().values), inplace= True)\n",
    "Single_col.describe()"
   ]
  },
  {
   "cell_type": "markdown",
   "metadata": {},
   "source": [
    "## Data Exploration"
   ]
  },
  {
   "cell_type": "markdown",
   "metadata": {},
   "source": [
    "#### To plot the data with salaries i need to convert the salary buckets to numerics and defing a function for that. Here if the salary bucket is 0-10,000 then it will return 10000 and if the salary is 10-20,000 the function will return 20000 likewise for all the salary buckets."
   ]
  },
  {
   "cell_type": "code",
   "execution_count": 46,
   "metadata": {},
   "outputs": [],
   "source": [
    "def salarybreak(range):\n",
    "    if range == '0-10,000': \n",
    "        return 10000\n",
    "    elif range == '10-20,000':\n",
    "        return 20000\n",
    "    elif range == '20-30,000':\n",
    "        return 30000\n",
    "    elif range == '30-40,000':\n",
    "        return 40000\n",
    "    elif range == '40-50,000':\n",
    "        return 50000\n",
    "    elif range == '50-60,000':\n",
    "        return 60000\n",
    "    elif range == '60-70,000':\n",
    "        return 70000\n",
    "    elif range == '70-80,000':\n",
    "        return 80000\n",
    "    elif range == '80-90,000':\n",
    "        return 90000\n",
    "    elif range == '90-100,000':\n",
    "        return 100000\n",
    "    elif range == '100-125,000':\n",
    "        return 125000\n",
    "    elif range == '125-150,000':\n",
    "        return 150000\n",
    "    elif range == '150-200,000':\n",
    "        return 200000\n",
    "    elif range == '200-250,000':\n",
    "        return 250000\n",
    "    elif range == '250-300,000':\n",
    "        return 300000\n",
    "    elif range == '300-400,000':\n",
    "        return 400000\n",
    "    elif range == '400-500,000':\n",
    "        return 500000\n",
    "    else:\n",
    "        return 600000\n",
    "        "
   ]
  },
  {
   "cell_type": "code",
   "execution_count": 47,
   "metadata": {},
   "outputs": [],
   "source": [
    "#Creating a new coulmn Q9_New for the numerical salary values\n",
    "Single_col['Q9_New'] = Single_col.apply(lambda row: salarybreak(row['Q9']),axis=1)"
   ]
  },
  {
   "cell_type": "markdown",
   "metadata": {},
   "source": [
    "#### Label encoding in the Single_col dataframe to plot the correlation matrix.\n",
    "I am plotting the correlation matrix because it provides me the correlations for features with respect to each other. Through this I can identify which feature gives more information about determining the target.\n",
    "\n",
    "As for correlation matrix I do not want to separate the columns, if I separate the columns then I won't be able to weigh all the factors in a particular column as a single column and give the correlation, instead i would be giving the correlation with respect to the new columns formed which is not correct. In order to encode all the unique values in each coulmns and not separate the columns LabelEncoder is used. "
   ]
  },
  {
   "cell_type": "code",
   "execution_count": 48,
   "metadata": {
    "scrolled": true
   },
   "outputs": [
    {
     "data": {
      "text/html": [
       "<div>\n",
       "<style scoped>\n",
       "    .dataframe tbody tr th:only-of-type {\n",
       "        vertical-align: middle;\n",
       "    }\n",
       "\n",
       "    .dataframe tbody tr th {\n",
       "        vertical-align: top;\n",
       "    }\n",
       "\n",
       "    .dataframe thead th {\n",
       "        text-align: right;\n",
       "    }\n",
       "</style>\n",
       "<table border=\"1\" class=\"dataframe\">\n",
       "  <thead>\n",
       "    <tr style=\"text-align: right;\">\n",
       "      <th></th>\n",
       "      <th>Q9_New</th>\n",
       "      <th>Q1</th>\n",
       "      <th>Q2</th>\n",
       "      <th>Q3</th>\n",
       "      <th>Q4</th>\n",
       "      <th>Q5</th>\n",
       "      <th>Q6</th>\n",
       "      <th>Q7</th>\n",
       "      <th>Q8</th>\n",
       "      <th>Q10</th>\n",
       "      <th>Q12_MULTIPLE_CHOICE</th>\n",
       "      <th>Q17</th>\n",
       "      <th>Q20</th>\n",
       "      <th>Q22</th>\n",
       "      <th>Q24</th>\n",
       "      <th>Q25</th>\n",
       "      <th>Q32</th>\n",
       "    </tr>\n",
       "  </thead>\n",
       "  <tbody>\n",
       "    <tr>\n",
       "      <th>2</th>\n",
       "      <td>20000</td>\n",
       "      <td>1</td>\n",
       "      <td>3</td>\n",
       "      <td>21</td>\n",
       "      <td>0</td>\n",
       "      <td>2</td>\n",
       "      <td>11</td>\n",
       "      <td>9</td>\n",
       "      <td>10</td>\n",
       "      <td>1</td>\n",
       "      <td>1</td>\n",
       "      <td>11</td>\n",
       "      <td>12</td>\n",
       "      <td>9</td>\n",
       "      <td>9</td>\n",
       "      <td>9</td>\n",
       "      <td>5</td>\n",
       "    </tr>\n",
       "    <tr>\n",
       "      <th>3</th>\n",
       "      <td>10000</td>\n",
       "      <td>0</td>\n",
       "      <td>3</td>\n",
       "      <td>55</td>\n",
       "      <td>2</td>\n",
       "      <td>1</td>\n",
       "      <td>7</td>\n",
       "      <td>7</td>\n",
       "      <td>0</td>\n",
       "      <td>0</td>\n",
       "      <td>4</td>\n",
       "      <td>4</td>\n",
       "      <td>12</td>\n",
       "      <td>11</td>\n",
       "      <td>6</td>\n",
       "      <td>7</td>\n",
       "      <td>10</td>\n",
       "    </tr>\n",
       "    <tr>\n",
       "      <th>5</th>\n",
       "      <td>10000</td>\n",
       "      <td>1</td>\n",
       "      <td>1</td>\n",
       "      <td>20</td>\n",
       "      <td>2</td>\n",
       "      <td>7</td>\n",
       "      <td>4</td>\n",
       "      <td>7</td>\n",
       "      <td>0</td>\n",
       "      <td>0</td>\n",
       "      <td>0</td>\n",
       "      <td>14</td>\n",
       "      <td>12</td>\n",
       "      <td>9</td>\n",
       "      <td>6</td>\n",
       "      <td>2</td>\n",
       "      <td>5</td>\n",
       "    </tr>\n",
       "    <tr>\n",
       "      <th>7</th>\n",
       "      <td>20000</td>\n",
       "      <td>1</td>\n",
       "      <td>4</td>\n",
       "      <td>8</td>\n",
       "      <td>1</td>\n",
       "      <td>6</td>\n",
       "      <td>11</td>\n",
       "      <td>0</td>\n",
       "      <td>2</td>\n",
       "      <td>1</td>\n",
       "      <td>1</td>\n",
       "      <td>11</td>\n",
       "      <td>12</td>\n",
       "      <td>9</td>\n",
       "      <td>7</td>\n",
       "      <td>7</td>\n",
       "      <td>5</td>\n",
       "    </tr>\n",
       "    <tr>\n",
       "      <th>8</th>\n",
       "      <td>10000</td>\n",
       "      <td>1</td>\n",
       "      <td>0</td>\n",
       "      <td>20</td>\n",
       "      <td>2</td>\n",
       "      <td>6</td>\n",
       "      <td>11</td>\n",
       "      <td>16</td>\n",
       "      <td>0</td>\n",
       "      <td>3</td>\n",
       "      <td>4</td>\n",
       "      <td>11</td>\n",
       "      <td>5</td>\n",
       "      <td>6</td>\n",
       "      <td>7</td>\n",
       "      <td>7</td>\n",
       "      <td>4</td>\n",
       "    </tr>\n",
       "  </tbody>\n",
       "</table>\n",
       "</div>"
      ],
      "text/plain": [
       "   Q9_New  Q1  Q2  Q3  Q4  Q5  Q6  Q7  Q8  Q10  Q12_MULTIPLE_CHOICE  Q17  Q20  \\\n",
       "2   20000   1   3  21   0   2  11   9  10    1                    1   11   12   \n",
       "3   10000   0   3  55   2   1   7   7   0    0                    4    4   12   \n",
       "5   10000   1   1  20   2   7   4   7   0    0                    0   14   12   \n",
       "7   20000   1   4   8   1   6  11   0   2    1                    1   11   12   \n",
       "8   10000   1   0  20   2   6  11  16   0    3                    4   11    5   \n",
       "\n",
       "   Q22  Q24  Q25  Q32  \n",
       "2    9    9    9    5  \n",
       "3   11    6    7   10  \n",
       "5    9    6    2    5  \n",
       "7    9    7    7    5  \n",
       "8    6    7    7    4  "
      ]
     },
     "execution_count": 48,
     "metadata": {},
     "output_type": "execute_result"
    }
   ],
   "source": [
    "temp_df1 = Single_col.copy(deep =True)\n",
    "le_df = temp_df1.drop(['Q9', 'Q9_New'], axis = 1)\n",
    "le = LabelEncoder()\n",
    "le_df = le_df.apply(le.fit_transform)\n",
    "le_df = pd.concat([temp_df1.pop('Q9_New'), le_df ], axis = 1)\n",
    "le_df.head()"
   ]
  },
  {
   "cell_type": "code",
   "execution_count": 49,
   "metadata": {},
   "outputs": [
    {
     "data": {
      "image/png": "[encoded data removed]",
      "text/plain": [
       "<Figure size 1296x720 with 2 Axes>"
      ]
     },
     "metadata": {
      "needs_background": "light"
     },
     "output_type": "display_data"
    }
   ],
   "source": [
    "corr = le_df.corr()\n",
    "plt.figure(figsize=(18,10))\n",
    "sns.heatmap(corr, xticklabels = corr.columns, yticklabels = corr.columns, annot = True)\n",
    "plt.show()"
   ]
  },
  {
   "cell_type": "markdown",
   "metadata": {},
   "source": [
    "From the correlation matrix it can be inferred that the columns Q2, Q3, Q10 and Q8 show good positive correlation with the salary. Thus plotting these features with salary and verifying the correlation found from the correlation matrix"
   ]
  },
  {
   "cell_type": "code",
   "execution_count": 50,
   "metadata": {},
   "outputs": [
    {
     "data": {
      "image/png": "[encoded data removed]",
      "text/plain": [
       "<Figure size 1296x720 with 1 Axes>"
      ]
     },
     "metadata": {
      "needs_background": "light"
     },
     "output_type": "display_data"
    }
   ],
   "source": [
    "plt.figure(figsize=(18,10))\n",
    "age = sns.boxplot(x='Q2', y='Q9_New', data=Single_col.sort_values(by=['Q2']))\n",
    "plt.xlabel('Age')\n",
    "plt.ylabel('Salary')\n",
    "plt.show()"
   ]
  },
  {
   "cell_type": "markdown",
   "metadata": {},
   "source": [
    "From the graph it can be interpreted that there is a positive correlation of age with salary as the age increases the salary also increases."
   ]
  },
  {
   "cell_type": "code",
   "execution_count": 51,
   "metadata": {},
   "outputs": [
    {
     "data": {
      "image/png": "[encoded data removed]",
      "text/plain": [
       "<Figure size 1296x720 with 1 Axes>"
      ]
     },
     "metadata": {
      "needs_background": "light"
     },
     "output_type": "display_data"
    }
   ],
   "source": [
    "plt.figure(figsize=(18,10))\n",
    "country = sns.boxplot(x='Q3', y='Q9_New', data=Single_col)\n",
    "country.set(ylim=(0, 310000))\n",
    "country.set_xticklabels(country.get_xticklabels(),rotation=90) \n",
    "plt.xlabel('Country')\n",
    "plt.ylabel('Salary')\n",
    "plt.show()"
   ]
  },
  {
   "cell_type": "markdown",
   "metadata": {},
   "source": [
    "From the graph it can be interpreted that there is a positive correlation of country with salary for countries like USA and Switzerland the salaries are quite high. Countries like Nigeria and Bangladesh offer very low salary."
   ]
  },
  {
   "cell_type": "code",
   "execution_count": 52,
   "metadata": {
    "scrolled": false
   },
   "outputs": [
    {
     "data": {
      "image/png": "[encoded data removed]",
      "text/plain": [
       "<Figure size 1296x720 with 1 Axes>"
      ]
     },
     "metadata": {
      "needs_background": "light"
     },
     "output_type": "display_data"
    }
   ],
   "source": [
    "plt.figure(figsize=(18,10))\n",
    "ML = sns.boxplot(x='Q10', y='Q9_New', data=Single_col)\n",
    "ML.set(ylim=(0, 210000))\n",
    "plt.xlabel('Are ML Techniques used in the organization')\n",
    "plt.ylabel('Salary')\n",
    "plt.show()"
   ]
  },
  {
   "cell_type": "markdown",
   "metadata": {},
   "source": [
    "From the plot we can infer that if the organization is exploring ML or using it gives more salary to their employees compared to the organizations who do not use ML techniques."
   ]
  },
  {
   "cell_type": "code",
   "execution_count": 53,
   "metadata": {
    "scrolled": false
   },
   "outputs": [
    {
     "data": {
      "image/png": "[encoded data removed]",
      "text/plain": [
       "<Figure size 1296x720 with 1 Axes>"
      ]
     },
     "metadata": {
      "needs_background": "light"
     },
     "output_type": "display_data"
    }
   ],
   "source": [
    "plt.figure(figsize=(18,10))\n",
    "experience = sns.boxplot(x='Q8', y='Q9_New', data=Single_col.sort_values(by=['Q8']))\n",
    "experience.set(ylim=(0, 410000))\n",
    "plt.xlabel('Years of Experience')\n",
    "plt.ylabel('Salary')\n",
    "plt.show()"
   ]
  },
  {
   "cell_type": "markdown",
   "metadata": {},
   "source": [
    "From the graph it can be interpreted that there is a positive correlation of experience with salary as the experience increases the salary also increases."
   ]
  },
  {
   "cell_type": "code",
   "execution_count": 54,
   "metadata": {
    "scrolled": false
   },
   "outputs": [
    {
     "data": {
      "text/html": [
       "<div>\n",
       "<style scoped>\n",
       "    .dataframe tbody tr th:only-of-type {\n",
       "        vertical-align: middle;\n",
       "    }\n",
       "\n",
       "    .dataframe tbody tr th {\n",
       "        vertical-align: top;\n",
       "    }\n",
       "\n",
       "    .dataframe thead th {\n",
       "        text-align: right;\n",
       "    }\n",
       "</style>\n",
       "<table border=\"1\" class=\"dataframe\">\n",
       "  <thead>\n",
       "    <tr style=\"text-align: right;\">\n",
       "      <th></th>\n",
       "      <th>Q1</th>\n",
       "      <th>Q2</th>\n",
       "      <th>Q3</th>\n",
       "      <th>Q4</th>\n",
       "      <th>Q5</th>\n",
       "      <th>Q6</th>\n",
       "      <th>Q7</th>\n",
       "      <th>Q8</th>\n",
       "      <th>Q9</th>\n",
       "      <th>Q10</th>\n",
       "      <th>Q12_MULTIPLE_CHOICE</th>\n",
       "      <th>Q17</th>\n",
       "      <th>Q20</th>\n",
       "      <th>Q22</th>\n",
       "      <th>Q24</th>\n",
       "      <th>Q25</th>\n",
       "      <th>Q32</th>\n",
       "      <th>Q9_New</th>\n",
       "    </tr>\n",
       "  </thead>\n",
       "  <tbody>\n",
       "    <tr>\n",
       "      <th>2</th>\n",
       "      <td>Male</td>\n",
       "      <td>30-34</td>\n",
       "      <td>Indonesia</td>\n",
       "      <td>Bachelor’s degree</td>\n",
       "      <td>Engineering (non-computer focused)</td>\n",
       "      <td>Other</td>\n",
       "      <td>Manufacturing/Fabrication</td>\n",
       "      <td>5-10</td>\n",
       "      <td>10-20,000</td>\n",
       "      <td>No</td>\n",
       "      <td>Basic statistical software (Microsoft Excel, G...</td>\n",
       "      <td>R</td>\n",
       "      <td>TensorFlow</td>\n",
       "      <td>Seaborn</td>\n",
       "      <td>I have never written code but I want to learn</td>\n",
       "      <td>I have never studied machine learning but plan...</td>\n",
       "      <td>Numerical Data</td>\n",
       "      <td>20000</td>\n",
       "    </tr>\n",
       "    <tr>\n",
       "      <th>3</th>\n",
       "      <td>Female</td>\n",
       "      <td>30-34</td>\n",
       "      <td>United States of America</td>\n",
       "      <td>Master’s degree</td>\n",
       "      <td>Computer science (software engineering, etc.)</td>\n",
       "      <td>Data Scientist</td>\n",
       "      <td>I am a student</td>\n",
       "      <td>0-1</td>\n",
       "      <td>0-10,000</td>\n",
       "      <td>I do not know</td>\n",
       "      <td>Local or hosted development environments (RStu...</td>\n",
       "      <td>Java</td>\n",
       "      <td>TensorFlow</td>\n",
       "      <td>ggplot2</td>\n",
       "      <td>5-10 years</td>\n",
       "      <td>&lt; 1 year</td>\n",
       "      <td>Time Series Data</td>\n",
       "      <td>10000</td>\n",
       "    </tr>\n",
       "    <tr>\n",
       "      <th>5</th>\n",
       "      <td>Male</td>\n",
       "      <td>22-24</td>\n",
       "      <td>India</td>\n",
       "      <td>Master’s degree</td>\n",
       "      <td>Mathematics or statistics</td>\n",
       "      <td>Data Analyst</td>\n",
       "      <td>I am a student</td>\n",
       "      <td>0-1</td>\n",
       "      <td>0-10,000</td>\n",
       "      <td>I do not know</td>\n",
       "      <td>Advanced statistical software (SPSS, SAS, etc.)</td>\n",
       "      <td>SQL</td>\n",
       "      <td>TensorFlow</td>\n",
       "      <td>Seaborn</td>\n",
       "      <td>5-10 years</td>\n",
       "      <td>2-3 years</td>\n",
       "      <td>Numerical Data</td>\n",
       "      <td>10000</td>\n",
       "    </tr>\n",
       "    <tr>\n",
       "      <th>7</th>\n",
       "      <td>Male</td>\n",
       "      <td>35-39</td>\n",
       "      <td>Chile</td>\n",
       "      <td>Doctoral degree</td>\n",
       "      <td>Information technology, networking, or system ...</td>\n",
       "      <td>Other</td>\n",
       "      <td>Academics/Education</td>\n",
       "      <td>10-15</td>\n",
       "      <td>10-20,000</td>\n",
       "      <td>No</td>\n",
       "      <td>Basic statistical software (Microsoft Excel, G...</td>\n",
       "      <td>R</td>\n",
       "      <td>TensorFlow</td>\n",
       "      <td>Seaborn</td>\n",
       "      <td>&lt; 1 year</td>\n",
       "      <td>&lt; 1 year</td>\n",
       "      <td>Numerical Data</td>\n",
       "      <td>20000</td>\n",
       "    </tr>\n",
       "    <tr>\n",
       "      <th>8</th>\n",
       "      <td>Male</td>\n",
       "      <td>18-21</td>\n",
       "      <td>India</td>\n",
       "      <td>Master’s degree</td>\n",
       "      <td>Information technology, networking, or system ...</td>\n",
       "      <td>Other</td>\n",
       "      <td>Other</td>\n",
       "      <td>0-1</td>\n",
       "      <td>0-10,000</td>\n",
       "      <td>Yes</td>\n",
       "      <td>Local or hosted development environments (RStu...</td>\n",
       "      <td>R</td>\n",
       "      <td>Keras</td>\n",
       "      <td>Matplotlib</td>\n",
       "      <td>&lt; 1 year</td>\n",
       "      <td>&lt; 1 year</td>\n",
       "      <td>Image Data</td>\n",
       "      <td>10000</td>\n",
       "    </tr>\n",
       "  </tbody>\n",
       "</table>\n",
       "</div>"
      ],
      "text/plain": [
       "       Q1     Q2                        Q3                 Q4  \\\n",
       "2    Male  30-34                 Indonesia  Bachelor’s degree   \n",
       "3  Female  30-34  United States of America    Master’s degree   \n",
       "5    Male  22-24                     India    Master’s degree   \n",
       "7    Male  35-39                     Chile    Doctoral degree   \n",
       "8    Male  18-21                     India    Master’s degree   \n",
       "\n",
       "                                                  Q5              Q6  \\\n",
       "2                 Engineering (non-computer focused)           Other   \n",
       "3      Computer science (software engineering, etc.)  Data Scientist   \n",
       "5                          Mathematics or statistics    Data Analyst   \n",
       "7  Information technology, networking, or system ...           Other   \n",
       "8  Information technology, networking, or system ...           Other   \n",
       "\n",
       "                          Q7     Q8         Q9            Q10  \\\n",
       "2  Manufacturing/Fabrication   5-10  10-20,000             No   \n",
       "3             I am a student    0-1   0-10,000  I do not know   \n",
       "5             I am a student    0-1   0-10,000  I do not know   \n",
       "7        Academics/Education  10-15  10-20,000             No   \n",
       "8                      Other    0-1   0-10,000            Yes   \n",
       "\n",
       "                                 Q12_MULTIPLE_CHOICE   Q17         Q20  \\\n",
       "2  Basic statistical software (Microsoft Excel, G...     R  TensorFlow   \n",
       "3  Local or hosted development environments (RStu...  Java  TensorFlow   \n",
       "5    Advanced statistical software (SPSS, SAS, etc.)   SQL  TensorFlow   \n",
       "7  Basic statistical software (Microsoft Excel, G...     R  TensorFlow   \n",
       "8  Local or hosted development environments (RStu...     R       Keras   \n",
       "\n",
       "          Q22                                            Q24  \\\n",
       "2     Seaborn  I have never written code but I want to learn   \n",
       "3     ggplot2                                     5-10 years   \n",
       "5     Seaborn                                     5-10 years   \n",
       "7     Seaborn                                       < 1 year   \n",
       "8  Matplotlib                                       < 1 year   \n",
       "\n",
       "                                                 Q25               Q32  Q9_New  \n",
       "2  I have never studied machine learning but plan...    Numerical Data   20000  \n",
       "3                                           < 1 year  Time Series Data   10000  \n",
       "5                                          2-3 years    Numerical Data   10000  \n",
       "7                                           < 1 year    Numerical Data   20000  \n",
       "8                                           < 1 year        Image Data   10000  "
      ]
     },
     "execution_count": 54,
     "metadata": {},
     "output_type": "execute_result"
    }
   ],
   "source": [
    "Single_col.head()"
   ]
  },
  {
   "cell_type": "markdown",
   "metadata": {},
   "source": [
    "#### Performing one hot encoding on Single_col dataframe\n",
    "We need to convert categorical data into numerical data as Sklearn doesn't take categorical values as input.\n",
    "Here we are separating all the unique values in all the columns into different columns with only one values and encoding it in 0 and 1. If we labelencode here then there will be weightage assigned to the entries in the column which is not needed."
   ]
  },
  {
   "cell_type": "code",
   "execution_count": 55,
   "metadata": {
    "scrolled": false
   },
   "outputs": [
    {
     "data": {
      "text/html": [
       "<div>\n",
       "<style scoped>\n",
       "    .dataframe tbody tr th:only-of-type {\n",
       "        vertical-align: middle;\n",
       "    }\n",
       "\n",
       "    .dataframe tbody tr th {\n",
       "        vertical-align: top;\n",
       "    }\n",
       "\n",
       "    .dataframe thead th {\n",
       "        text-align: right;\n",
       "    }\n",
       "</style>\n",
       "<table border=\"1\" class=\"dataframe\">\n",
       "  <thead>\n",
       "    <tr style=\"text-align: right;\">\n",
       "      <th></th>\n",
       "      <th>Q9</th>\n",
       "      <th>Q1_Female</th>\n",
       "      <th>Q1_Male</th>\n",
       "      <th>Q2_18-21</th>\n",
       "      <th>Q2_22-24</th>\n",
       "      <th>Q2_25-29</th>\n",
       "      <th>Q2_30-34</th>\n",
       "      <th>Q2_35-39</th>\n",
       "      <th>Q2_40-44</th>\n",
       "      <th>Q2_45-49</th>\n",
       "      <th>...</th>\n",
       "      <th>Q32_Genetic Data</th>\n",
       "      <th>Q32_Geospatial Data</th>\n",
       "      <th>Q32_Image Data</th>\n",
       "      <th>Q32_Numerical Data</th>\n",
       "      <th>Q32_Other Data</th>\n",
       "      <th>Q32_Sensor Data</th>\n",
       "      <th>Q32_Tabular Data</th>\n",
       "      <th>Q32_Text Data</th>\n",
       "      <th>Q32_Time Series Data</th>\n",
       "      <th>Q32_Video Data</th>\n",
       "    </tr>\n",
       "  </thead>\n",
       "  <tbody>\n",
       "    <tr>\n",
       "      <th>2</th>\n",
       "      <td>10-20,000</td>\n",
       "      <td>0</td>\n",
       "      <td>1</td>\n",
       "      <td>0</td>\n",
       "      <td>0</td>\n",
       "      <td>0</td>\n",
       "      <td>1</td>\n",
       "      <td>0</td>\n",
       "      <td>0</td>\n",
       "      <td>0</td>\n",
       "      <td>...</td>\n",
       "      <td>0</td>\n",
       "      <td>0</td>\n",
       "      <td>0</td>\n",
       "      <td>1</td>\n",
       "      <td>0</td>\n",
       "      <td>0</td>\n",
       "      <td>0</td>\n",
       "      <td>0</td>\n",
       "      <td>0</td>\n",
       "      <td>0</td>\n",
       "    </tr>\n",
       "    <tr>\n",
       "      <th>3</th>\n",
       "      <td>0-10,000</td>\n",
       "      <td>1</td>\n",
       "      <td>0</td>\n",
       "      <td>0</td>\n",
       "      <td>0</td>\n",
       "      <td>0</td>\n",
       "      <td>1</td>\n",
       "      <td>0</td>\n",
       "      <td>0</td>\n",
       "      <td>0</td>\n",
       "      <td>...</td>\n",
       "      <td>0</td>\n",
       "      <td>0</td>\n",
       "      <td>0</td>\n",
       "      <td>0</td>\n",
       "      <td>0</td>\n",
       "      <td>0</td>\n",
       "      <td>0</td>\n",
       "      <td>0</td>\n",
       "      <td>1</td>\n",
       "      <td>0</td>\n",
       "    </tr>\n",
       "    <tr>\n",
       "      <th>5</th>\n",
       "      <td>0-10,000</td>\n",
       "      <td>0</td>\n",
       "      <td>1</td>\n",
       "      <td>0</td>\n",
       "      <td>1</td>\n",
       "      <td>0</td>\n",
       "      <td>0</td>\n",
       "      <td>0</td>\n",
       "      <td>0</td>\n",
       "      <td>0</td>\n",
       "      <td>...</td>\n",
       "      <td>0</td>\n",
       "      <td>0</td>\n",
       "      <td>0</td>\n",
       "      <td>1</td>\n",
       "      <td>0</td>\n",
       "      <td>0</td>\n",
       "      <td>0</td>\n",
       "      <td>0</td>\n",
       "      <td>0</td>\n",
       "      <td>0</td>\n",
       "    </tr>\n",
       "    <tr>\n",
       "      <th>7</th>\n",
       "      <td>10-20,000</td>\n",
       "      <td>0</td>\n",
       "      <td>1</td>\n",
       "      <td>0</td>\n",
       "      <td>0</td>\n",
       "      <td>0</td>\n",
       "      <td>0</td>\n",
       "      <td>1</td>\n",
       "      <td>0</td>\n",
       "      <td>0</td>\n",
       "      <td>...</td>\n",
       "      <td>0</td>\n",
       "      <td>0</td>\n",
       "      <td>0</td>\n",
       "      <td>1</td>\n",
       "      <td>0</td>\n",
       "      <td>0</td>\n",
       "      <td>0</td>\n",
       "      <td>0</td>\n",
       "      <td>0</td>\n",
       "      <td>0</td>\n",
       "    </tr>\n",
       "    <tr>\n",
       "      <th>8</th>\n",
       "      <td>0-10,000</td>\n",
       "      <td>0</td>\n",
       "      <td>1</td>\n",
       "      <td>1</td>\n",
       "      <td>0</td>\n",
       "      <td>0</td>\n",
       "      <td>0</td>\n",
       "      <td>0</td>\n",
       "      <td>0</td>\n",
       "      <td>0</td>\n",
       "      <td>...</td>\n",
       "      <td>0</td>\n",
       "      <td>0</td>\n",
       "      <td>1</td>\n",
       "      <td>0</td>\n",
       "      <td>0</td>\n",
       "      <td>0</td>\n",
       "      <td>0</td>\n",
       "      <td>0</td>\n",
       "      <td>0</td>\n",
       "      <td>0</td>\n",
       "    </tr>\n",
       "  </tbody>\n",
       "</table>\n",
       "<p>5 rows × 229 columns</p>\n",
       "</div>"
      ],
      "text/plain": [
       "          Q9  Q1_Female  Q1_Male  Q2_18-21  Q2_22-24  Q2_25-29  Q2_30-34  \\\n",
       "2  10-20,000          0        1         0         0         0         1   \n",
       "3   0-10,000          1        0         0         0         0         1   \n",
       "5   0-10,000          0        1         0         1         0         0   \n",
       "7  10-20,000          0        1         0         0         0         0   \n",
       "8   0-10,000          0        1         1         0         0         0   \n",
       "\n",
       "   Q2_35-39  Q2_40-44  Q2_45-49  ...  Q32_Genetic Data  Q32_Geospatial Data  \\\n",
       "2         0         0         0  ...                 0                    0   \n",
       "3         0         0         0  ...                 0                    0   \n",
       "5         0         0         0  ...                 0                    0   \n",
       "7         1         0         0  ...                 0                    0   \n",
       "8         0         0         0  ...                 0                    0   \n",
       "\n",
       "   Q32_Image Data  Q32_Numerical Data  Q32_Other Data  Q32_Sensor Data  \\\n",
       "2               0                   1               0                0   \n",
       "3               0                   0               0                0   \n",
       "5               0                   1               0                0   \n",
       "7               0                   1               0                0   \n",
       "8               1                   0               0                0   \n",
       "\n",
       "   Q32_Tabular Data  Q32_Text Data  Q32_Time Series Data  Q32_Video Data  \n",
       "2                 0              0                     0               0  \n",
       "3                 0              0                     1               0  \n",
       "5                 0              0                     0               0  \n",
       "7                 0              0                     0               0  \n",
       "8                 0              0                     0               0  \n",
       "\n",
       "[5 rows x 229 columns]"
      ]
     },
     "execution_count": 55,
     "metadata": {},
     "output_type": "execute_result"
    }
   ],
   "source": [
    "# Create dummy features for each categorical feature\n",
    "dummies_Q1_Single_col = pd.get_dummies(Single_col['Q1'], prefix='Q1')\n",
    "dummies_Q2_Single_col = pd.get_dummies(Single_col['Q2'], prefix='Q2')\n",
    "dummies_Q3_Single_col = pd.get_dummies(Single_col['Q3'], prefix='Q3')\n",
    "dummies_Q4_Single_col = pd.get_dummies(Single_col['Q4'], prefix='Q4')\n",
    "dummies_Q5_Single_col = pd.get_dummies(Single_col['Q5'], prefix='Q5')\n",
    "dummies_Q6_Single_col = pd.get_dummies(Single_col['Q6'], prefix='Q6')\n",
    "dummies_Q7_Single_col = pd.get_dummies(Single_col['Q7'], prefix='Q7')\n",
    "dummies_Q8_Single_col = pd.get_dummies(Single_col['Q8'], prefix='Q8')\n",
    "dummies_Q10_Single_col = pd.get_dummies(Single_col['Q10'], prefix='Q10')\n",
    "dummies_Q12_Single_col = pd.get_dummies(Single_col['Q12_MULTIPLE_CHOICE'], prefix='Q12')\n",
    "dummies_Q17_Single_col = pd.get_dummies(Single_col['Q17'], prefix='Q17')\n",
    "dummies_Q20_Single_col = pd.get_dummies(Single_col['Q20'], prefix='Q20')\n",
    "dummies_Q22_Single_col = pd.get_dummies(Single_col['Q22'], prefix='Q22')\n",
    "dummies_Q24_Single_col = pd.get_dummies(Single_col['Q24'], prefix='Q24')\n",
    "dummies_Q25_Single_col = pd.get_dummies(Single_col['Q25'], prefix='Q25')\n",
    "dummies_Q32_Single_col = pd.get_dummies(Single_col['Q32'], prefix='Q32')\n",
    "\n",
    "# Add the new features to the dataframe via concating\n",
    "tempDF = pd.concat([Single_col, dummies_Q1_Single_col, dummies_Q2_Single_col, dummies_Q3_Single_col, dummies_Q4_Single_col,\n",
    "                   dummies_Q5_Single_col, dummies_Q6_Single_col, dummies_Q7_Single_col, dummies_Q8_Single_col,\n",
    "                   dummies_Q10_Single_col, dummies_Q12_Single_col, dummies_Q17_Single_col, dummies_Q20_Single_col,\n",
    "                   dummies_Q22_Single_col, dummies_Q24_Single_col, dummies_Q25_Single_col, dummies_Q32_Single_col], axis=1)\n",
    "\n",
    "# Drop the original categorical feature columns\n",
    "# Single_col With string values (eg. 0-10,000 etc.) in the target columns\n",
    "Single_col = tempDF.drop(['Q1','Q2','Q3','Q4','Q5','Q6','Q7','Q8','Q9_New','Q10','Q12_MULTIPLE_CHOICE','Q17','Q20','Q22','Q24','Q25','Q32'],axis=1)\n",
    "# Single_col2 With numerical values (eg. 10000 etc.) in the target columns\n",
    "Single_col2 = tempDF.drop(['Q1','Q2','Q3','Q4','Q5','Q6','Q7','Q8','Q9','Q10','Q12_MULTIPLE_CHOICE','Q17','Q20','Q22','Q24','Q25','Q32'],axis=1)\n",
    "\n",
    "Single_col.head()"
   ]
  },
  {
   "cell_type": "code",
   "execution_count": 56,
   "metadata": {},
   "outputs": [
    {
     "data": {
      "text/html": [
       "<div>\n",
       "<style scoped>\n",
       "    .dataframe tbody tr th:only-of-type {\n",
       "        vertical-align: middle;\n",
       "    }\n",
       "\n",
       "    .dataframe tbody tr th {\n",
       "        vertical-align: top;\n",
       "    }\n",
       "\n",
       "    .dataframe thead th {\n",
       "        text-align: right;\n",
       "    }\n",
       "</style>\n",
       "<table border=\"1\" class=\"dataframe\">\n",
       "  <thead>\n",
       "    <tr style=\"text-align: right;\">\n",
       "      <th></th>\n",
       "      <th>Q9_New</th>\n",
       "      <th>Q1_Female</th>\n",
       "      <th>Q1_Male</th>\n",
       "      <th>Q2_18-21</th>\n",
       "      <th>Q2_22-24</th>\n",
       "      <th>Q2_25-29</th>\n",
       "      <th>Q2_30-34</th>\n",
       "      <th>Q2_35-39</th>\n",
       "      <th>Q2_40-44</th>\n",
       "      <th>Q2_45-49</th>\n",
       "      <th>...</th>\n",
       "      <th>Q32_Genetic Data</th>\n",
       "      <th>Q32_Geospatial Data</th>\n",
       "      <th>Q32_Image Data</th>\n",
       "      <th>Q32_Numerical Data</th>\n",
       "      <th>Q32_Other Data</th>\n",
       "      <th>Q32_Sensor Data</th>\n",
       "      <th>Q32_Tabular Data</th>\n",
       "      <th>Q32_Text Data</th>\n",
       "      <th>Q32_Time Series Data</th>\n",
       "      <th>Q32_Video Data</th>\n",
       "    </tr>\n",
       "  </thead>\n",
       "  <tbody>\n",
       "    <tr>\n",
       "      <th>2</th>\n",
       "      <td>20000</td>\n",
       "      <td>0</td>\n",
       "      <td>1</td>\n",
       "      <td>0</td>\n",
       "      <td>0</td>\n",
       "      <td>0</td>\n",
       "      <td>1</td>\n",
       "      <td>0</td>\n",
       "      <td>0</td>\n",
       "      <td>0</td>\n",
       "      <td>...</td>\n",
       "      <td>0</td>\n",
       "      <td>0</td>\n",
       "      <td>0</td>\n",
       "      <td>1</td>\n",
       "      <td>0</td>\n",
       "      <td>0</td>\n",
       "      <td>0</td>\n",
       "      <td>0</td>\n",
       "      <td>0</td>\n",
       "      <td>0</td>\n",
       "    </tr>\n",
       "    <tr>\n",
       "      <th>3</th>\n",
       "      <td>10000</td>\n",
       "      <td>1</td>\n",
       "      <td>0</td>\n",
       "      <td>0</td>\n",
       "      <td>0</td>\n",
       "      <td>0</td>\n",
       "      <td>1</td>\n",
       "      <td>0</td>\n",
       "      <td>0</td>\n",
       "      <td>0</td>\n",
       "      <td>...</td>\n",
       "      <td>0</td>\n",
       "      <td>0</td>\n",
       "      <td>0</td>\n",
       "      <td>0</td>\n",
       "      <td>0</td>\n",
       "      <td>0</td>\n",
       "      <td>0</td>\n",
       "      <td>0</td>\n",
       "      <td>1</td>\n",
       "      <td>0</td>\n",
       "    </tr>\n",
       "    <tr>\n",
       "      <th>5</th>\n",
       "      <td>10000</td>\n",
       "      <td>0</td>\n",
       "      <td>1</td>\n",
       "      <td>0</td>\n",
       "      <td>1</td>\n",
       "      <td>0</td>\n",
       "      <td>0</td>\n",
       "      <td>0</td>\n",
       "      <td>0</td>\n",
       "      <td>0</td>\n",
       "      <td>...</td>\n",
       "      <td>0</td>\n",
       "      <td>0</td>\n",
       "      <td>0</td>\n",
       "      <td>1</td>\n",
       "      <td>0</td>\n",
       "      <td>0</td>\n",
       "      <td>0</td>\n",
       "      <td>0</td>\n",
       "      <td>0</td>\n",
       "      <td>0</td>\n",
       "    </tr>\n",
       "    <tr>\n",
       "      <th>7</th>\n",
       "      <td>20000</td>\n",
       "      <td>0</td>\n",
       "      <td>1</td>\n",
       "      <td>0</td>\n",
       "      <td>0</td>\n",
       "      <td>0</td>\n",
       "      <td>0</td>\n",
       "      <td>1</td>\n",
       "      <td>0</td>\n",
       "      <td>0</td>\n",
       "      <td>...</td>\n",
       "      <td>0</td>\n",
       "      <td>0</td>\n",
       "      <td>0</td>\n",
       "      <td>1</td>\n",
       "      <td>0</td>\n",
       "      <td>0</td>\n",
       "      <td>0</td>\n",
       "      <td>0</td>\n",
       "      <td>0</td>\n",
       "      <td>0</td>\n",
       "    </tr>\n",
       "    <tr>\n",
       "      <th>8</th>\n",
       "      <td>10000</td>\n",
       "      <td>0</td>\n",
       "      <td>1</td>\n",
       "      <td>1</td>\n",
       "      <td>0</td>\n",
       "      <td>0</td>\n",
       "      <td>0</td>\n",
       "      <td>0</td>\n",
       "      <td>0</td>\n",
       "      <td>0</td>\n",
       "      <td>...</td>\n",
       "      <td>0</td>\n",
       "      <td>0</td>\n",
       "      <td>1</td>\n",
       "      <td>0</td>\n",
       "      <td>0</td>\n",
       "      <td>0</td>\n",
       "      <td>0</td>\n",
       "      <td>0</td>\n",
       "      <td>0</td>\n",
       "      <td>0</td>\n",
       "    </tr>\n",
       "  </tbody>\n",
       "</table>\n",
       "<p>5 rows × 229 columns</p>\n",
       "</div>"
      ],
      "text/plain": [
       "   Q9_New  Q1_Female  Q1_Male  Q2_18-21  Q2_22-24  Q2_25-29  Q2_30-34  \\\n",
       "2   20000          0        1         0         0         0         1   \n",
       "3   10000          1        0         0         0         0         1   \n",
       "5   10000          0        1         0         1         0         0   \n",
       "7   20000          0        1         0         0         0         0   \n",
       "8   10000          0        1         1         0         0         0   \n",
       "\n",
       "   Q2_35-39  Q2_40-44  Q2_45-49  ...  Q32_Genetic Data  Q32_Geospatial Data  \\\n",
       "2         0         0         0  ...                 0                    0   \n",
       "3         0         0         0  ...                 0                    0   \n",
       "5         0         0         0  ...                 0                    0   \n",
       "7         1         0         0  ...                 0                    0   \n",
       "8         0         0         0  ...                 0                    0   \n",
       "\n",
       "   Q32_Image Data  Q32_Numerical Data  Q32_Other Data  Q32_Sensor Data  \\\n",
       "2               0                   1               0                0   \n",
       "3               0                   0               0                0   \n",
       "5               0                   1               0                0   \n",
       "7               0                   1               0                0   \n",
       "8               1                   0               0                0   \n",
       "\n",
       "   Q32_Tabular Data  Q32_Text Data  Q32_Time Series Data  Q32_Video Data  \n",
       "2                 0              0                     0               0  \n",
       "3                 0              0                     1               0  \n",
       "5                 0              0                     0               0  \n",
       "7                 0              0                     0               0  \n",
       "8                 0              0                     0               0  \n",
       "\n",
       "[5 rows x 229 columns]"
      ]
     },
     "execution_count": 56,
     "metadata": {},
     "output_type": "execute_result"
    }
   ],
   "source": [
    "Single_col2.head()"
   ]
  },
  {
   "cell_type": "markdown",
   "metadata": {},
   "source": [
    "#### Here i will be cleaning the data in the single columns with single entries and NaN values\n",
    "Here I am replacing the NaN values with 0."
   ]
  },
  {
   "cell_type": "code",
   "execution_count": 57,
   "metadata": {
    "scrolled": false
   },
   "outputs": [
    {
     "data": {
      "text/html": [
       "<div>\n",
       "<style scoped>\n",
       "    .dataframe tbody tr th:only-of-type {\n",
       "        vertical-align: middle;\n",
       "    }\n",
       "\n",
       "    .dataframe tbody tr th {\n",
       "        vertical-align: top;\n",
       "    }\n",
       "\n",
       "    .dataframe thead th {\n",
       "        text-align: right;\n",
       "    }\n",
       "</style>\n",
       "<table border=\"1\" class=\"dataframe\">\n",
       "  <thead>\n",
       "    <tr style=\"text-align: right;\">\n",
       "      <th></th>\n",
       "      <th>Q11_Part_1</th>\n",
       "      <th>Q11_Part_2</th>\n",
       "      <th>Q11_Part_3</th>\n",
       "      <th>Q11_Part_4</th>\n",
       "      <th>Q11_Part_5</th>\n",
       "      <th>Q11_Part_6</th>\n",
       "      <th>Q11_Part_7</th>\n",
       "      <th>Q13_Part_1</th>\n",
       "      <th>Q13_Part_2</th>\n",
       "      <th>Q13_Part_3</th>\n",
       "      <th>...</th>\n",
       "      <th>Q30_Part_22</th>\n",
       "      <th>Q30_Part_23</th>\n",
       "      <th>Q30_Part_24</th>\n",
       "      <th>Q30_Part_25</th>\n",
       "      <th>Q42_Part_1</th>\n",
       "      <th>Q42_Part_2</th>\n",
       "      <th>Q42_Part_3</th>\n",
       "      <th>Q42_Part_4</th>\n",
       "      <th>Q42_Part_5</th>\n",
       "      <th>index</th>\n",
       "    </tr>\n",
       "  </thead>\n",
       "  <tbody>\n",
       "    <tr>\n",
       "      <th>2</th>\n",
       "      <td>0</td>\n",
       "      <td>0</td>\n",
       "      <td>0</td>\n",
       "      <td>0</td>\n",
       "      <td>0</td>\n",
       "      <td>None of these activities are an important part...</td>\n",
       "      <td>0</td>\n",
       "      <td>0</td>\n",
       "      <td>0</td>\n",
       "      <td>0</td>\n",
       "      <td>...</td>\n",
       "      <td>0</td>\n",
       "      <td>0</td>\n",
       "      <td>0</td>\n",
       "      <td>0</td>\n",
       "      <td>0</td>\n",
       "      <td>0</td>\n",
       "      <td>0</td>\n",
       "      <td>0</td>\n",
       "      <td>0</td>\n",
       "      <td>0.0</td>\n",
       "    </tr>\n",
       "    <tr>\n",
       "      <th>3</th>\n",
       "      <td>Analyze and understand data to influence produ...</td>\n",
       "      <td>0</td>\n",
       "      <td>0</td>\n",
       "      <td>0</td>\n",
       "      <td>0</td>\n",
       "      <td>0</td>\n",
       "      <td>0</td>\n",
       "      <td>0</td>\n",
       "      <td>0</td>\n",
       "      <td>0</td>\n",
       "      <td>...</td>\n",
       "      <td>0</td>\n",
       "      <td>0</td>\n",
       "      <td>0</td>\n",
       "      <td>0</td>\n",
       "      <td>0</td>\n",
       "      <td>Metrics that consider accuracy</td>\n",
       "      <td>0</td>\n",
       "      <td>0</td>\n",
       "      <td>0</td>\n",
       "      <td>1.0</td>\n",
       "    </tr>\n",
       "    <tr>\n",
       "      <th>5</th>\n",
       "      <td>0</td>\n",
       "      <td>0</td>\n",
       "      <td>0</td>\n",
       "      <td>0</td>\n",
       "      <td>0</td>\n",
       "      <td>0</td>\n",
       "      <td>Other</td>\n",
       "      <td>0</td>\n",
       "      <td>RStudio</td>\n",
       "      <td>0</td>\n",
       "      <td>...</td>\n",
       "      <td>0</td>\n",
       "      <td>0</td>\n",
       "      <td>0</td>\n",
       "      <td>0</td>\n",
       "      <td>0</td>\n",
       "      <td>0</td>\n",
       "      <td>Metrics that consider unfair bias</td>\n",
       "      <td>0</td>\n",
       "      <td>0</td>\n",
       "      <td>2.0</td>\n",
       "    </tr>\n",
       "    <tr>\n",
       "      <th>7</th>\n",
       "      <td>0</td>\n",
       "      <td>0</td>\n",
       "      <td>0</td>\n",
       "      <td>0</td>\n",
       "      <td>0</td>\n",
       "      <td>None of these activities are an important part...</td>\n",
       "      <td>0</td>\n",
       "      <td>0</td>\n",
       "      <td>RStudio</td>\n",
       "      <td>0</td>\n",
       "      <td>...</td>\n",
       "      <td>0</td>\n",
       "      <td>0</td>\n",
       "      <td>None</td>\n",
       "      <td>0</td>\n",
       "      <td>0</td>\n",
       "      <td>0</td>\n",
       "      <td>0</td>\n",
       "      <td>Not applicable (I am not involved with an orga...</td>\n",
       "      <td>0</td>\n",
       "      <td>3.0</td>\n",
       "    </tr>\n",
       "    <tr>\n",
       "      <th>8</th>\n",
       "      <td>0</td>\n",
       "      <td>Build and/or run a machine learning service th...</td>\n",
       "      <td>0</td>\n",
       "      <td>0</td>\n",
       "      <td>0</td>\n",
       "      <td>0</td>\n",
       "      <td>0</td>\n",
       "      <td>Jupyter/IPython</td>\n",
       "      <td>0</td>\n",
       "      <td>PyCharm</td>\n",
       "      <td>...</td>\n",
       "      <td>0</td>\n",
       "      <td>0</td>\n",
       "      <td>None</td>\n",
       "      <td>0</td>\n",
       "      <td>Revenue and/or business goals</td>\n",
       "      <td>Metrics that consider accuracy</td>\n",
       "      <td>0</td>\n",
       "      <td>0</td>\n",
       "      <td>0</td>\n",
       "      <td>4.0</td>\n",
       "    </tr>\n",
       "  </tbody>\n",
       "</table>\n",
       "<p>5 rows × 162 columns</p>\n",
       "</div>"
      ],
      "text/plain": [
       "                                          Q11_Part_1  \\\n",
       "2                                                  0   \n",
       "3  Analyze and understand data to influence produ...   \n",
       "5                                                  0   \n",
       "7                                                  0   \n",
       "8                                                  0   \n",
       "\n",
       "                                          Q11_Part_2 Q11_Part_3 Q11_Part_4  \\\n",
       "2                                                  0          0          0   \n",
       "3                                                  0          0          0   \n",
       "5                                                  0          0          0   \n",
       "7                                                  0          0          0   \n",
       "8  Build and/or run a machine learning service th...          0          0   \n",
       "\n",
       "  Q11_Part_5                                         Q11_Part_6 Q11_Part_7  \\\n",
       "2          0  None of these activities are an important part...          0   \n",
       "3          0                                                  0          0   \n",
       "5          0                                                  0      Other   \n",
       "7          0  None of these activities are an important part...          0   \n",
       "8          0                                                  0          0   \n",
       "\n",
       "        Q13_Part_1 Q13_Part_2 Q13_Part_3  ... Q30_Part_22 Q30_Part_23  \\\n",
       "2                0          0          0  ...           0           0   \n",
       "3                0          0          0  ...           0           0   \n",
       "5                0    RStudio          0  ...           0           0   \n",
       "7                0    RStudio          0  ...           0           0   \n",
       "8  Jupyter/IPython          0    PyCharm  ...           0           0   \n",
       "\n",
       "  Q30_Part_24 Q30_Part_25                     Q42_Part_1  \\\n",
       "2           0           0                              0   \n",
       "3           0           0                              0   \n",
       "5           0           0                              0   \n",
       "7        None           0                              0   \n",
       "8        None           0  Revenue and/or business goals   \n",
       "\n",
       "                       Q42_Part_2                         Q42_Part_3  \\\n",
       "2                               0                                  0   \n",
       "3  Metrics that consider accuracy                                  0   \n",
       "5                               0  Metrics that consider unfair bias   \n",
       "7                               0                                  0   \n",
       "8  Metrics that consider accuracy                                  0   \n",
       "\n",
       "                                          Q42_Part_4 Q42_Part_5 index  \n",
       "2                                                  0          0   0.0  \n",
       "3                                                  0          0   1.0  \n",
       "5                                                  0          0   2.0  \n",
       "7  Not applicable (I am not involved with an orga...          0   3.0  \n",
       "8                                                  0          0   4.0  \n",
       "\n",
       "[5 rows x 162 columns]"
      ]
     },
     "execution_count": 57,
     "metadata": {},
     "output_type": "execute_result"
    }
   ],
   "source": [
    "Salaries_new.fillna(value = 0, inplace = True)\n",
    "Salaries_new.head()"
   ]
  },
  {
   "cell_type": "markdown",
   "metadata": {},
   "source": [
    "Replacing replacing every value with 1 except those of 0."
   ]
  },
  {
   "cell_type": "code",
   "execution_count": 58,
   "metadata": {},
   "outputs": [],
   "source": [
    "p = Salaries_new.columns\n",
    "To_iterate = p.drop('index')\n",
    "for i in To_iterate:\n",
    "    Salaries_new[i] = Salaries_new[i].apply(lambda f: 1 if (f != 0) else 0)"
   ]
  },
  {
   "cell_type": "markdown",
   "metadata": {},
   "source": [
    "Encoded dataframe with multiple coulmns but single entries in them."
   ]
  },
  {
   "cell_type": "code",
   "execution_count": 59,
   "metadata": {},
   "outputs": [
    {
     "data": {
      "text/html": [
       "<div>\n",
       "<style scoped>\n",
       "    .dataframe tbody tr th:only-of-type {\n",
       "        vertical-align: middle;\n",
       "    }\n",
       "\n",
       "    .dataframe tbody tr th {\n",
       "        vertical-align: top;\n",
       "    }\n",
       "\n",
       "    .dataframe thead th {\n",
       "        text-align: right;\n",
       "    }\n",
       "</style>\n",
       "<table border=\"1\" class=\"dataframe\">\n",
       "  <thead>\n",
       "    <tr style=\"text-align: right;\">\n",
       "      <th></th>\n",
       "      <th>Q11_Part_1</th>\n",
       "      <th>Q11_Part_2</th>\n",
       "      <th>Q11_Part_3</th>\n",
       "      <th>Q11_Part_4</th>\n",
       "      <th>Q11_Part_5</th>\n",
       "      <th>Q11_Part_6</th>\n",
       "      <th>Q11_Part_7</th>\n",
       "      <th>Q13_Part_1</th>\n",
       "      <th>Q13_Part_2</th>\n",
       "      <th>Q13_Part_3</th>\n",
       "      <th>...</th>\n",
       "      <th>Q30_Part_22</th>\n",
       "      <th>Q30_Part_23</th>\n",
       "      <th>Q30_Part_24</th>\n",
       "      <th>Q30_Part_25</th>\n",
       "      <th>Q42_Part_1</th>\n",
       "      <th>Q42_Part_2</th>\n",
       "      <th>Q42_Part_3</th>\n",
       "      <th>Q42_Part_4</th>\n",
       "      <th>Q42_Part_5</th>\n",
       "      <th>index</th>\n",
       "    </tr>\n",
       "  </thead>\n",
       "  <tbody>\n",
       "    <tr>\n",
       "      <th>2</th>\n",
       "      <td>0</td>\n",
       "      <td>0</td>\n",
       "      <td>0</td>\n",
       "      <td>0</td>\n",
       "      <td>0</td>\n",
       "      <td>1</td>\n",
       "      <td>0</td>\n",
       "      <td>0</td>\n",
       "      <td>0</td>\n",
       "      <td>0</td>\n",
       "      <td>...</td>\n",
       "      <td>0</td>\n",
       "      <td>0</td>\n",
       "      <td>0</td>\n",
       "      <td>0</td>\n",
       "      <td>0</td>\n",
       "      <td>0</td>\n",
       "      <td>0</td>\n",
       "      <td>0</td>\n",
       "      <td>0</td>\n",
       "      <td>0.0</td>\n",
       "    </tr>\n",
       "    <tr>\n",
       "      <th>3</th>\n",
       "      <td>1</td>\n",
       "      <td>0</td>\n",
       "      <td>0</td>\n",
       "      <td>0</td>\n",
       "      <td>0</td>\n",
       "      <td>0</td>\n",
       "      <td>0</td>\n",
       "      <td>0</td>\n",
       "      <td>0</td>\n",
       "      <td>0</td>\n",
       "      <td>...</td>\n",
       "      <td>0</td>\n",
       "      <td>0</td>\n",
       "      <td>0</td>\n",
       "      <td>0</td>\n",
       "      <td>0</td>\n",
       "      <td>1</td>\n",
       "      <td>0</td>\n",
       "      <td>0</td>\n",
       "      <td>0</td>\n",
       "      <td>1.0</td>\n",
       "    </tr>\n",
       "    <tr>\n",
       "      <th>5</th>\n",
       "      <td>0</td>\n",
       "      <td>0</td>\n",
       "      <td>0</td>\n",
       "      <td>0</td>\n",
       "      <td>0</td>\n",
       "      <td>0</td>\n",
       "      <td>1</td>\n",
       "      <td>0</td>\n",
       "      <td>1</td>\n",
       "      <td>0</td>\n",
       "      <td>...</td>\n",
       "      <td>0</td>\n",
       "      <td>0</td>\n",
       "      <td>0</td>\n",
       "      <td>0</td>\n",
       "      <td>0</td>\n",
       "      <td>0</td>\n",
       "      <td>1</td>\n",
       "      <td>0</td>\n",
       "      <td>0</td>\n",
       "      <td>2.0</td>\n",
       "    </tr>\n",
       "    <tr>\n",
       "      <th>7</th>\n",
       "      <td>0</td>\n",
       "      <td>0</td>\n",
       "      <td>0</td>\n",
       "      <td>0</td>\n",
       "      <td>0</td>\n",
       "      <td>1</td>\n",
       "      <td>0</td>\n",
       "      <td>0</td>\n",
       "      <td>1</td>\n",
       "      <td>0</td>\n",
       "      <td>...</td>\n",
       "      <td>0</td>\n",
       "      <td>0</td>\n",
       "      <td>1</td>\n",
       "      <td>0</td>\n",
       "      <td>0</td>\n",
       "      <td>0</td>\n",
       "      <td>0</td>\n",
       "      <td>1</td>\n",
       "      <td>0</td>\n",
       "      <td>3.0</td>\n",
       "    </tr>\n",
       "    <tr>\n",
       "      <th>8</th>\n",
       "      <td>0</td>\n",
       "      <td>1</td>\n",
       "      <td>0</td>\n",
       "      <td>0</td>\n",
       "      <td>0</td>\n",
       "      <td>0</td>\n",
       "      <td>0</td>\n",
       "      <td>1</td>\n",
       "      <td>0</td>\n",
       "      <td>1</td>\n",
       "      <td>...</td>\n",
       "      <td>0</td>\n",
       "      <td>0</td>\n",
       "      <td>1</td>\n",
       "      <td>0</td>\n",
       "      <td>1</td>\n",
       "      <td>1</td>\n",
       "      <td>0</td>\n",
       "      <td>0</td>\n",
       "      <td>0</td>\n",
       "      <td>4.0</td>\n",
       "    </tr>\n",
       "  </tbody>\n",
       "</table>\n",
       "<p>5 rows × 162 columns</p>\n",
       "</div>"
      ],
      "text/plain": [
       "   Q11_Part_1  Q11_Part_2  Q11_Part_3  Q11_Part_4  Q11_Part_5  Q11_Part_6  \\\n",
       "2           0           0           0           0           0           1   \n",
       "3           1           0           0           0           0           0   \n",
       "5           0           0           0           0           0           0   \n",
       "7           0           0           0           0           0           1   \n",
       "8           0           1           0           0           0           0   \n",
       "\n",
       "   Q11_Part_7  Q13_Part_1  Q13_Part_2  Q13_Part_3  ...  Q30_Part_22  \\\n",
       "2           0           0           0           0  ...            0   \n",
       "3           0           0           0           0  ...            0   \n",
       "5           1           0           1           0  ...            0   \n",
       "7           0           0           1           0  ...            0   \n",
       "8           0           1           0           1  ...            0   \n",
       "\n",
       "   Q30_Part_23  Q30_Part_24  Q30_Part_25  Q42_Part_1  Q42_Part_2  Q42_Part_3  \\\n",
       "2            0            0            0           0           0           0   \n",
       "3            0            0            0           0           1           0   \n",
       "5            0            0            0           0           0           1   \n",
       "7            0            1            0           0           0           0   \n",
       "8            0            1            0           1           1           0   \n",
       "\n",
       "   Q42_Part_4  Q42_Part_5  index  \n",
       "2           0           0    0.0  \n",
       "3           0           0    1.0  \n",
       "5           0           0    2.0  \n",
       "7           1           0    3.0  \n",
       "8           0           0    4.0  \n",
       "\n",
       "[5 rows x 162 columns]"
      ]
     },
     "execution_count": 59,
     "metadata": {},
     "output_type": "execute_result"
    }
   ],
   "source": [
    "Salaries_new.head()"
   ]
  },
  {
   "cell_type": "markdown",
   "metadata": {},
   "source": [
    "Concatinating the both the encoded dataframes, this dataframe will have salaries in the form of salary buckets."
   ]
  },
  {
   "cell_type": "code",
   "execution_count": 60,
   "metadata": {
    "scrolled": true
   },
   "outputs": [
    {
     "data": {
      "text/html": [
       "<div>\n",
       "<style scoped>\n",
       "    .dataframe tbody tr th:only-of-type {\n",
       "        vertical-align: middle;\n",
       "    }\n",
       "\n",
       "    .dataframe tbody tr th {\n",
       "        vertical-align: top;\n",
       "    }\n",
       "\n",
       "    .dataframe thead th {\n",
       "        text-align: right;\n",
       "    }\n",
       "</style>\n",
       "<table border=\"1\" class=\"dataframe\">\n",
       "  <thead>\n",
       "    <tr style=\"text-align: right;\">\n",
       "      <th></th>\n",
       "      <th>Q9</th>\n",
       "      <th>Q1_Female</th>\n",
       "      <th>Q1_Male</th>\n",
       "      <th>Q2_18-21</th>\n",
       "      <th>Q2_22-24</th>\n",
       "      <th>Q2_25-29</th>\n",
       "      <th>Q2_30-34</th>\n",
       "      <th>Q2_35-39</th>\n",
       "      <th>Q2_40-44</th>\n",
       "      <th>Q2_45-49</th>\n",
       "      <th>...</th>\n",
       "      <th>Q30_Part_22</th>\n",
       "      <th>Q30_Part_23</th>\n",
       "      <th>Q30_Part_24</th>\n",
       "      <th>Q30_Part_25</th>\n",
       "      <th>Q42_Part_1</th>\n",
       "      <th>Q42_Part_2</th>\n",
       "      <th>Q42_Part_3</th>\n",
       "      <th>Q42_Part_4</th>\n",
       "      <th>Q42_Part_5</th>\n",
       "      <th>index</th>\n",
       "    </tr>\n",
       "  </thead>\n",
       "  <tbody>\n",
       "    <tr>\n",
       "      <th>2</th>\n",
       "      <td>10-20,000</td>\n",
       "      <td>0</td>\n",
       "      <td>1</td>\n",
       "      <td>0</td>\n",
       "      <td>0</td>\n",
       "      <td>0</td>\n",
       "      <td>1</td>\n",
       "      <td>0</td>\n",
       "      <td>0</td>\n",
       "      <td>0</td>\n",
       "      <td>...</td>\n",
       "      <td>0</td>\n",
       "      <td>0</td>\n",
       "      <td>0</td>\n",
       "      <td>0</td>\n",
       "      <td>0</td>\n",
       "      <td>0</td>\n",
       "      <td>0</td>\n",
       "      <td>0</td>\n",
       "      <td>0</td>\n",
       "      <td>0.0</td>\n",
       "    </tr>\n",
       "    <tr>\n",
       "      <th>3</th>\n",
       "      <td>0-10,000</td>\n",
       "      <td>1</td>\n",
       "      <td>0</td>\n",
       "      <td>0</td>\n",
       "      <td>0</td>\n",
       "      <td>0</td>\n",
       "      <td>1</td>\n",
       "      <td>0</td>\n",
       "      <td>0</td>\n",
       "      <td>0</td>\n",
       "      <td>...</td>\n",
       "      <td>0</td>\n",
       "      <td>0</td>\n",
       "      <td>0</td>\n",
       "      <td>0</td>\n",
       "      <td>0</td>\n",
       "      <td>1</td>\n",
       "      <td>0</td>\n",
       "      <td>0</td>\n",
       "      <td>0</td>\n",
       "      <td>1.0</td>\n",
       "    </tr>\n",
       "    <tr>\n",
       "      <th>5</th>\n",
       "      <td>0-10,000</td>\n",
       "      <td>0</td>\n",
       "      <td>1</td>\n",
       "      <td>0</td>\n",
       "      <td>1</td>\n",
       "      <td>0</td>\n",
       "      <td>0</td>\n",
       "      <td>0</td>\n",
       "      <td>0</td>\n",
       "      <td>0</td>\n",
       "      <td>...</td>\n",
       "      <td>0</td>\n",
       "      <td>0</td>\n",
       "      <td>0</td>\n",
       "      <td>0</td>\n",
       "      <td>0</td>\n",
       "      <td>0</td>\n",
       "      <td>1</td>\n",
       "      <td>0</td>\n",
       "      <td>0</td>\n",
       "      <td>2.0</td>\n",
       "    </tr>\n",
       "    <tr>\n",
       "      <th>7</th>\n",
       "      <td>10-20,000</td>\n",
       "      <td>0</td>\n",
       "      <td>1</td>\n",
       "      <td>0</td>\n",
       "      <td>0</td>\n",
       "      <td>0</td>\n",
       "      <td>0</td>\n",
       "      <td>1</td>\n",
       "      <td>0</td>\n",
       "      <td>0</td>\n",
       "      <td>...</td>\n",
       "      <td>0</td>\n",
       "      <td>0</td>\n",
       "      <td>1</td>\n",
       "      <td>0</td>\n",
       "      <td>0</td>\n",
       "      <td>0</td>\n",
       "      <td>0</td>\n",
       "      <td>1</td>\n",
       "      <td>0</td>\n",
       "      <td>3.0</td>\n",
       "    </tr>\n",
       "    <tr>\n",
       "      <th>8</th>\n",
       "      <td>0-10,000</td>\n",
       "      <td>0</td>\n",
       "      <td>1</td>\n",
       "      <td>1</td>\n",
       "      <td>0</td>\n",
       "      <td>0</td>\n",
       "      <td>0</td>\n",
       "      <td>0</td>\n",
       "      <td>0</td>\n",
       "      <td>0</td>\n",
       "      <td>...</td>\n",
       "      <td>0</td>\n",
       "      <td>0</td>\n",
       "      <td>1</td>\n",
       "      <td>0</td>\n",
       "      <td>1</td>\n",
       "      <td>1</td>\n",
       "      <td>0</td>\n",
       "      <td>0</td>\n",
       "      <td>0</td>\n",
       "      <td>4.0</td>\n",
       "    </tr>\n",
       "  </tbody>\n",
       "</table>\n",
       "<p>5 rows × 391 columns</p>\n",
       "</div>"
      ],
      "text/plain": [
       "          Q9  Q1_Female  Q1_Male  Q2_18-21  Q2_22-24  Q2_25-29  Q2_30-34  \\\n",
       "2  10-20,000          0        1         0         0         0         1   \n",
       "3   0-10,000          1        0         0         0         0         1   \n",
       "5   0-10,000          0        1         0         1         0         0   \n",
       "7  10-20,000          0        1         0         0         0         0   \n",
       "8   0-10,000          0        1         1         0         0         0   \n",
       "\n",
       "   Q2_35-39  Q2_40-44  Q2_45-49  ...  Q30_Part_22  Q30_Part_23  Q30_Part_24  \\\n",
       "2         0         0         0  ...            0            0            0   \n",
       "3         0         0         0  ...            0            0            0   \n",
       "5         0         0         0  ...            0            0            0   \n",
       "7         1         0         0  ...            0            0            1   \n",
       "8         0         0         0  ...            0            0            1   \n",
       "\n",
       "   Q30_Part_25  Q42_Part_1  Q42_Part_2  Q42_Part_3  Q42_Part_4  Q42_Part_5  \\\n",
       "2            0           0           0           0           0           0   \n",
       "3            0           0           1           0           0           0   \n",
       "5            0           0           0           1           0           0   \n",
       "7            0           0           0           0           1           0   \n",
       "8            0           1           1           0           0           0   \n",
       "\n",
       "   index  \n",
       "2    0.0  \n",
       "3    1.0  \n",
       "5    2.0  \n",
       "7    3.0  \n",
       "8    4.0  \n",
       "\n",
       "[5 rows x 391 columns]"
      ]
     },
     "execution_count": 60,
     "metadata": {},
     "output_type": "execute_result"
    }
   ],
   "source": [
    "Final_Salaries = pd.concat([Single_col, Salaries_new], axis = 1)\n",
    "Final_Salaries.head()"
   ]
  },
  {
   "cell_type": "markdown",
   "metadata": {},
   "source": [
    "Separating the Target from the data frame"
   ]
  },
  {
   "cell_type": "code",
   "execution_count": 61,
   "metadata": {},
   "outputs": [],
   "source": [
    "y = Final_Salaries.pop('Q9')\n",
    "X = Final_Salaries.drop(['index'], axis = 1)"
   ]
  },
  {
   "cell_type": "code",
   "execution_count": 62,
   "metadata": {},
   "outputs": [],
   "source": [
    "import warnings\n",
    "#warnings.filterwarnings(\"ignore\", category=ConvergenceWarning)\n",
    "warnings.filterwarnings(\"ignore\")"
   ]
  },
  {
   "cell_type": "markdown",
   "metadata": {},
   "source": [
    "## Feature Selection"
   ]
  },
  {
   "cell_type": "markdown",
   "metadata": {},
   "source": [
    "Feature selection helps in providing only the useful data for ML training and this helps in reducing the size of the bulky data provided. This helps in combating the problem of over-fitting and reducing the computational cost associated with using the whole data set for training.\n",
    "\n",
    "Here i have used, Lasso Regularization to do the feature selection. As in lasso if the algorithm doesn't find the feature to be useful for predicting the target it reduces it's coefficient to zero, which essentially reduces the dimensionality of the data set. By implementing penalty as 'l1' I am setting Lasso regularization in the logistic regression, which reduces the coefficients to zero and SelectFromModel is a Meta-transformer for selecting features based on importance weights. Here, C value controls the sparsity: the smaller C the fewer features selected."
   ]
  },
  {
   "cell_type": "markdown",
   "metadata": {},
   "source": [
    "As my target data is multinomial, the solvers that are useful are  'lbfgs', 'sag', 'saga' and 'newton-cg', and as I am using L1 penalty the solvers further reduce down to 'saga'."
   ]
  },
  {
   "cell_type": "code",
   "execution_count": 63,
   "metadata": {
    "scrolled": false
   },
   "outputs": [
    {
     "data": {
      "text/plain": [
       "SelectFromModel(estimator=LogisticRegression(C=0.02, class_weight=None,\n",
       "                                             dual=False, fit_intercept=True,\n",
       "                                             intercept_scaling=1, l1_ratio=None,\n",
       "                                             max_iter=100, multi_class='ovr',\n",
       "                                             n_jobs=None, penalty='l1',\n",
       "                                             random_state=0, solver='saga',\n",
       "                                             tol=0.0001, verbose=0,\n",
       "                                             warm_start=False),\n",
       "                max_features=None, norm_order=1, prefit=False, threshold=None)"
      ]
     },
     "execution_count": 63,
     "metadata": {},
     "output_type": "execute_result"
    }
   ],
   "source": [
    "sel_ = SelectFromModel(LogisticRegression(C=0.02, penalty='l1', random_state = 0, multi_class='ovr', solver='saga'))\n",
    "sel_.fit(X, y)"
   ]
  },
  {
   "cell_type": "code",
   "execution_count": 64,
   "metadata": {
    "scrolled": false
   },
   "outputs": [
    {
     "data": {
      "text/plain": [
       "['Q2_18-21',\n",
       " 'Q2_22-24',\n",
       " 'Q2_25-29',\n",
       " 'Q2_30-34',\n",
       " 'Q2_35-39',\n",
       " 'Q3_Canada',\n",
       " 'Q3_Germany',\n",
       " 'Q3_India',\n",
       " 'Q3_Other',\n",
       " 'Q3_Russia',\n",
       " 'Q3_United Kingdom of Great Britain and Northern Ireland',\n",
       " 'Q3_United States of America',\n",
       " 'Q4_Bachelor’s degree',\n",
       " 'Q4_Doctoral degree',\n",
       " 'Q5_Computer science (software engineering, etc.)',\n",
       " 'Q6_Data Analyst',\n",
       " 'Q6_Research Assistant',\n",
       " 'Q6_Student',\n",
       " 'Q7_Academics/Education',\n",
       " 'Q7_Accounting/Finance',\n",
       " 'Q7_Computers/Technology',\n",
       " 'Q7_I am a student',\n",
       " 'Q8_0-1',\n",
       " 'Q8_1-2',\n",
       " 'Q10_I do not know',\n",
       " 'Q10_No',\n",
       " 'Q10_We are exploring ML methods (and may one day put a model into production)',\n",
       " 'Q10_Yes',\n",
       " 'Q12_Basic statistical software (Microsoft Excel, Google Sheets, etc.)',\n",
       " 'Q20_TensorFlow',\n",
       " 'Q22_Seaborn',\n",
       " 'Q24_1-2 years',\n",
       " 'Q24_10-20 years',\n",
       " 'Q24_3-5 years',\n",
       " 'Q24_5-10 years',\n",
       " 'Q24_< 1 year',\n",
       " 'Q25_< 1 year',\n",
       " 'Q11_Part_1',\n",
       " 'Q11_Part_4',\n",
       " 'Q11_Part_5',\n",
       " 'Q13_Part_2',\n",
       " 'Q13_Part_11',\n",
       " 'Q15_Part_2',\n",
       " 'Q15_Part_3',\n",
       " 'Q15_Part_6',\n",
       " 'Q27_Part_1',\n",
       " 'Q29_Part_9',\n",
       " 'Q29_Part_11',\n",
       " 'Q30_Part_24',\n",
       " 'Q42_Part_1',\n",
       " 'Q42_Part_2']"
      ]
     },
     "execution_count": 64,
     "metadata": {},
     "output_type": "execute_result"
    }
   ],
   "source": [
    "cols_sel = list(X.columns[sel_.get_support()])\n",
    "cols_sel"
   ]
  },
  {
   "cell_type": "markdown",
   "metadata": {},
   "source": [
    "We can see that most of the columns that are important from the visulaizations are not kept so we need to add them as well. The columns corresponding to questions 10,8,3,2 needs to be added"
   ]
  },
  {
   "cell_type": "code",
   "execution_count": 65,
   "metadata": {
    "scrolled": true
   },
   "outputs": [],
   "source": [
    "cols_sep = ['Q2_', 'Q3_', 'Q8_', 'Q10_']\n",
    "cd = []\n",
    "for i in cols_sep:\n",
    "    cd.append(X.filter(regex=i).columns)\n",
    "    \n",
    "new = list(itertools.chain.from_iterable(cd))"
   ]
  },
  {
   "cell_type": "code",
   "execution_count": 66,
   "metadata": {},
   "outputs": [],
   "source": [
    "for i in new:\n",
    "    if i not in cols_sel:\n",
    "        cols_sel.append(i)"
   ]
  },
  {
   "cell_type": "markdown",
   "metadata": {},
   "source": [
    "Here I got my selected features in X_Selected from feature selection"
   ]
  },
  {
   "cell_type": "code",
   "execution_count": 67,
   "metadata": {
    "scrolled": true
   },
   "outputs": [
    {
     "data": {
      "text/html": [
       "<div>\n",
       "<style scoped>\n",
       "    .dataframe tbody tr th:only-of-type {\n",
       "        vertical-align: middle;\n",
       "    }\n",
       "\n",
       "    .dataframe tbody tr th {\n",
       "        vertical-align: top;\n",
       "    }\n",
       "\n",
       "    .dataframe thead th {\n",
       "        text-align: right;\n",
       "    }\n",
       "</style>\n",
       "<table border=\"1\" class=\"dataframe\">\n",
       "  <thead>\n",
       "    <tr style=\"text-align: right;\">\n",
       "      <th></th>\n",
       "      <th>Q2_18-21</th>\n",
       "      <th>Q2_22-24</th>\n",
       "      <th>Q2_25-29</th>\n",
       "      <th>Q2_30-34</th>\n",
       "      <th>Q2_35-39</th>\n",
       "      <th>Q3_Canada</th>\n",
       "      <th>Q3_Germany</th>\n",
       "      <th>Q3_India</th>\n",
       "      <th>Q3_Other</th>\n",
       "      <th>Q3_Russia</th>\n",
       "      <th>...</th>\n",
       "      <th>Q3_Viet Nam</th>\n",
       "      <th>Q8_10-15</th>\n",
       "      <th>Q8_15-20</th>\n",
       "      <th>Q8_2-3</th>\n",
       "      <th>Q8_20-25</th>\n",
       "      <th>Q8_25-30</th>\n",
       "      <th>Q8_3-4</th>\n",
       "      <th>Q8_30-</th>\n",
       "      <th>Q8_4-5</th>\n",
       "      <th>Q8_5-10</th>\n",
       "    </tr>\n",
       "  </thead>\n",
       "  <tbody>\n",
       "    <tr>\n",
       "      <th>2</th>\n",
       "      <td>0</td>\n",
       "      <td>0</td>\n",
       "      <td>0</td>\n",
       "      <td>1</td>\n",
       "      <td>0</td>\n",
       "      <td>0</td>\n",
       "      <td>0</td>\n",
       "      <td>0</td>\n",
       "      <td>0</td>\n",
       "      <td>0</td>\n",
       "      <td>...</td>\n",
       "      <td>0</td>\n",
       "      <td>0</td>\n",
       "      <td>0</td>\n",
       "      <td>0</td>\n",
       "      <td>0</td>\n",
       "      <td>0</td>\n",
       "      <td>0</td>\n",
       "      <td>0</td>\n",
       "      <td>0</td>\n",
       "      <td>1</td>\n",
       "    </tr>\n",
       "    <tr>\n",
       "      <th>3</th>\n",
       "      <td>0</td>\n",
       "      <td>0</td>\n",
       "      <td>0</td>\n",
       "      <td>1</td>\n",
       "      <td>0</td>\n",
       "      <td>0</td>\n",
       "      <td>0</td>\n",
       "      <td>0</td>\n",
       "      <td>0</td>\n",
       "      <td>0</td>\n",
       "      <td>...</td>\n",
       "      <td>0</td>\n",
       "      <td>0</td>\n",
       "      <td>0</td>\n",
       "      <td>0</td>\n",
       "      <td>0</td>\n",
       "      <td>0</td>\n",
       "      <td>0</td>\n",
       "      <td>0</td>\n",
       "      <td>0</td>\n",
       "      <td>0</td>\n",
       "    </tr>\n",
       "    <tr>\n",
       "      <th>5</th>\n",
       "      <td>0</td>\n",
       "      <td>1</td>\n",
       "      <td>0</td>\n",
       "      <td>0</td>\n",
       "      <td>0</td>\n",
       "      <td>0</td>\n",
       "      <td>0</td>\n",
       "      <td>1</td>\n",
       "      <td>0</td>\n",
       "      <td>0</td>\n",
       "      <td>...</td>\n",
       "      <td>0</td>\n",
       "      <td>0</td>\n",
       "      <td>0</td>\n",
       "      <td>0</td>\n",
       "      <td>0</td>\n",
       "      <td>0</td>\n",
       "      <td>0</td>\n",
       "      <td>0</td>\n",
       "      <td>0</td>\n",
       "      <td>0</td>\n",
       "    </tr>\n",
       "    <tr>\n",
       "      <th>7</th>\n",
       "      <td>0</td>\n",
       "      <td>0</td>\n",
       "      <td>0</td>\n",
       "      <td>0</td>\n",
       "      <td>1</td>\n",
       "      <td>0</td>\n",
       "      <td>0</td>\n",
       "      <td>0</td>\n",
       "      <td>0</td>\n",
       "      <td>0</td>\n",
       "      <td>...</td>\n",
       "      <td>0</td>\n",
       "      <td>1</td>\n",
       "      <td>0</td>\n",
       "      <td>0</td>\n",
       "      <td>0</td>\n",
       "      <td>0</td>\n",
       "      <td>0</td>\n",
       "      <td>0</td>\n",
       "      <td>0</td>\n",
       "      <td>0</td>\n",
       "    </tr>\n",
       "    <tr>\n",
       "      <th>8</th>\n",
       "      <td>1</td>\n",
       "      <td>0</td>\n",
       "      <td>0</td>\n",
       "      <td>0</td>\n",
       "      <td>0</td>\n",
       "      <td>0</td>\n",
       "      <td>0</td>\n",
       "      <td>1</td>\n",
       "      <td>0</td>\n",
       "      <td>0</td>\n",
       "      <td>...</td>\n",
       "      <td>0</td>\n",
       "      <td>0</td>\n",
       "      <td>0</td>\n",
       "      <td>0</td>\n",
       "      <td>0</td>\n",
       "      <td>0</td>\n",
       "      <td>0</td>\n",
       "      <td>0</td>\n",
       "      <td>0</td>\n",
       "      <td>0</td>\n",
       "    </tr>\n",
       "  </tbody>\n",
       "</table>\n",
       "<p>5 rows × 117 columns</p>\n",
       "</div>"
      ],
      "text/plain": [
       "   Q2_18-21  Q2_22-24  Q2_25-29  Q2_30-34  Q2_35-39  Q3_Canada  Q3_Germany  \\\n",
       "2         0         0         0         1         0          0           0   \n",
       "3         0         0         0         1         0          0           0   \n",
       "5         0         1         0         0         0          0           0   \n",
       "7         0         0         0         0         1          0           0   \n",
       "8         1         0         0         0         0          0           0   \n",
       "\n",
       "   Q3_India  Q3_Other  Q3_Russia  ...  Q3_Viet Nam  Q8_10-15  Q8_15-20  \\\n",
       "2         0         0          0  ...            0         0         0   \n",
       "3         0         0          0  ...            0         0         0   \n",
       "5         1         0          0  ...            0         0         0   \n",
       "7         0         0          0  ...            0         1         0   \n",
       "8         1         0          0  ...            0         0         0   \n",
       "\n",
       "   Q8_2-3  Q8_20-25  Q8_25-30  Q8_3-4  Q8_30-  Q8_4-5  Q8_5-10  \n",
       "2       0         0         0       0       0       0        1  \n",
       "3       0         0         0       0       0       0        0  \n",
       "5       0         0         0       0       0       0        0  \n",
       "7       0         0         0       0       0       0        0  \n",
       "8       0         0         0       0       0       0        0  \n",
       "\n",
       "[5 rows x 117 columns]"
      ]
     },
     "execution_count": 67,
     "metadata": {},
     "output_type": "execute_result"
    }
   ],
   "source": [
    "X_selected = X[cols_sel]\n",
    "X_selected.head()"
   ]
  },
  {
   "cell_type": "markdown",
   "metadata": {},
   "source": [
    "Providing the selected features for splitting"
   ]
  },
  {
   "cell_type": "code",
   "execution_count": 68,
   "metadata": {},
   "outputs": [],
   "source": [
    "X_train, X_test, y_train, y_test = train_test_split(X_selected, y, random_state=0, test_size=0.3)"
   ]
  },
  {
   "cell_type": "markdown",
   "metadata": {},
   "source": [
    "## Model Implementation"
   ]
  },
  {
   "cell_type": "code",
   "execution_count": 69,
   "metadata": {},
   "outputs": [
    {
     "name": "stdout",
     "output_type": "stream",
     "text": [
      "Fold 1: Accuracy: 35.235%\n",
      "Fold 2: Accuracy: 37.328%\n",
      "Fold 3: Accuracy: 37.233%\n",
      "Fold 4: Accuracy: 35.663%\n",
      "Fold 5: Accuracy: 36.965%\n",
      "Average Score: 36.485%(0.864%)\n"
     ]
    }
   ],
   "source": [
    "model = LogisticRegression(random_state = 0, multi_class='ovr', solver='saga')\n",
    "scaler = StandardScaler()\n",
    "kfold = KFold(n_splits=5)\n",
    "kfold.get_n_splits(X_train)\n",
    "\n",
    "accura = np.zeros(5)\n",
    "np_idx = 0\n",
    "\n",
    "for train_idx, test_idx in kfold.split(X_train):\n",
    "    Xn_train, Xn_test = X_train.values[train_idx], X_train.values[test_idx]\n",
    "    yn_train, yn_test = y_train.values[train_idx], y_train.values[test_idx]\n",
    "    \n",
    "    Xn_train = scaler.fit_transform(Xn_train)\n",
    "    Xn_test = scaler.transform(Xn_test)\n",
    "    \n",
    "    model.fit(Xn_train, yn_train)\n",
    "    \n",
    "    predictions = model.predict(Xn_test)\n",
    "    \n",
    "    ACCU = accuracy_score(yn_test, predictions)\n",
    "    \n",
    "    accura[np_idx] = ACCU*100\n",
    "    np_idx += 1\n",
    "    \n",
    "    print (\"Fold {}: Accuracy: {}%\".format(np_idx, round(ACCU*100,3)))   \n",
    "\n",
    "print (\"Average Score: {}%({}%)\".format(round(np.mean(accura),3),round(np.std(accura),3)))"
   ]
  },
  {
   "cell_type": "markdown",
   "metadata": {},
   "source": [
    "As I got the train accuracy to be very low I have decided to check the distribution of number of data sets per unique salary. I will be doing this with the numerical salary (Single_col2) and not the salary buckets as it is difficult to get error scores for bias and variance if the salary is in buckets. "
   ]
  },
  {
   "cell_type": "code",
   "execution_count": 70,
   "metadata": {
    "scrolled": false
   },
   "outputs": [
    {
     "data": {
      "text/plain": [
       "Q9_New\n",
       "10000     4182\n",
       "20000     1926\n",
       "30000     1391\n",
       "40000     1115\n",
       "50000      962\n",
       "60000      917\n",
       "70000      729\n",
       "80000      676\n",
       "90000      505\n",
       "100000     565\n",
       "125000     841\n",
       "150000     533\n",
       "200000     457\n",
       "250000     147\n",
       "300000      59\n",
       "400000       6\n",
       "500000       1\n",
       "600000       8\n",
       "Name: Q9_New, dtype: int64"
      ]
     },
     "execution_count": 70,
     "metadata": {},
     "output_type": "execute_result"
    }
   ],
   "source": [
    "Single_col2.groupby('Q9_New')['Q9_New'].count()"
   ]
  },
  {
   "cell_type": "markdown",
   "metadata": {},
   "source": [
    "### Feature Engineering 2\n",
    "Since the number of data sets is not enough in the higher range of salaries, I will be clubbing the target range such that I get atleast 1000 entries per unique salary. This will help in proper distribution of data after splitting as the model can have enough amount of entries for all categories and the training would be good. If I don't do this there is a chance that a few of the categories would not be included in the training or if inculded there might not be sufficient quantities for that range and the model would not be able to classify it while testing which would reduce my accuracy. "
   ]
  },
  {
   "cell_type": "markdown",
   "metadata": {},
   "source": [
    "I am clubbing all the salaries above 125,000 in the range of 125-500,000; 30-40,000 & 40-50,000 as 30-50,000; 50-60,000 & 60-70,000 as 50-70,000; 70-80,000 & 80-90,000 as 70-90,000; 90-100,000 & 100-125,000 as 90-125,000."
   ]
  },
  {
   "cell_type": "code",
   "execution_count": 71,
   "metadata": {},
   "outputs": [],
   "source": [
    "c1 = Single_col2[Single_col2['Q9_New'] >=150000].index  \n",
    "for i in c1:\n",
    "    Single_col2.at[i,'Q9_New'] = 150000\n",
    "\n",
    "c2 = Single_col2[Single_col2['Q9_New'] ==40000].index   \n",
    "for i in c2:\n",
    "    Single_col2.at[i,'Q9_New'] = 40000\n",
    "\n",
    "c3 = Single_col2[Single_col2['Q9_New'] ==50000].index   \n",
    "for i in c3:\n",
    "    Single_col2.at[i,'Q9_New'] = 40000\n",
    "\n",
    "c4 = Single_col2[Single_col2['Q9_New'] ==60000].index   \n",
    "for i in c4:\n",
    "    Single_col2.at[i,'Q9_New'] = 60000\n",
    "\n",
    "c5 = Single_col2[Single_col2['Q9_New'] ==70000].index   \n",
    "for i in c5:\n",
    "    Single_col2.at[i,'Q9_New'] = 60000\n",
    "\n",
    "c6 = Single_col2[Single_col2['Q9_New'] ==80000].index   \n",
    "for i in c6:\n",
    "    Single_col2.at[i,'Q9_New'] = 80000\n",
    "\n",
    "c7 = Single_col2[Single_col2['Q9_New'] ==90000].index   \n",
    "for i in c7:\n",
    "    Single_col2.at[i,'Q9_New'] = 80000\n",
    "\n",
    "c8 = Single_col2[Single_col2['Q9_New'] ==100000].index   \n",
    "for i in c8:\n",
    "    Single_col2.at[i,'Q9_New'] = 100000\n",
    "\n",
    "c9 = Single_col2[Single_col2['Q9_New'] ==125000].index   \n",
    "for i in c9:\n",
    "    Single_col2.at[i,'Q9_New'] = 100000\n",
    "\n",
    "Final_Salaries2 = pd.concat([Single_col2, Salaries_new], axis = 1)"
   ]
  },
  {
   "cell_type": "code",
   "execution_count": 72,
   "metadata": {},
   "outputs": [
    {
     "data": {
      "text/plain": [
       "Q9_New\n",
       "10000     4182\n",
       "20000     1926\n",
       "30000     1391\n",
       "40000     2077\n",
       "60000     1646\n",
       "80000     1181\n",
       "100000    1406\n",
       "150000    1211\n",
       "Name: Q9_New, dtype: int64"
      ]
     },
     "execution_count": 72,
     "metadata": {},
     "output_type": "execute_result"
    }
   ],
   "source": [
    "Single_col2.groupby('Q9_New')['Q9_New'].count()"
   ]
  },
  {
   "cell_type": "code",
   "execution_count": 73,
   "metadata": {
    "scrolled": false
   },
   "outputs": [
    {
     "data": {
      "text/html": [
       "<div>\n",
       "<style scoped>\n",
       "    .dataframe tbody tr th:only-of-type {\n",
       "        vertical-align: middle;\n",
       "    }\n",
       "\n",
       "    .dataframe tbody tr th {\n",
       "        vertical-align: top;\n",
       "    }\n",
       "\n",
       "    .dataframe thead th {\n",
       "        text-align: right;\n",
       "    }\n",
       "</style>\n",
       "<table border=\"1\" class=\"dataframe\">\n",
       "  <thead>\n",
       "    <tr style=\"text-align: right;\">\n",
       "      <th></th>\n",
       "      <th>Q9_New</th>\n",
       "      <th>Q1_Female</th>\n",
       "      <th>Q1_Male</th>\n",
       "      <th>Q2_18-21</th>\n",
       "      <th>Q2_22-24</th>\n",
       "      <th>Q2_25-29</th>\n",
       "      <th>Q2_30-34</th>\n",
       "      <th>Q2_35-39</th>\n",
       "      <th>Q2_40-44</th>\n",
       "      <th>Q2_45-49</th>\n",
       "      <th>...</th>\n",
       "      <th>Q30_Part_22</th>\n",
       "      <th>Q30_Part_23</th>\n",
       "      <th>Q30_Part_24</th>\n",
       "      <th>Q30_Part_25</th>\n",
       "      <th>Q42_Part_1</th>\n",
       "      <th>Q42_Part_2</th>\n",
       "      <th>Q42_Part_3</th>\n",
       "      <th>Q42_Part_4</th>\n",
       "      <th>Q42_Part_5</th>\n",
       "      <th>index</th>\n",
       "    </tr>\n",
       "  </thead>\n",
       "  <tbody>\n",
       "    <tr>\n",
       "      <th>2</th>\n",
       "      <td>20000</td>\n",
       "      <td>0</td>\n",
       "      <td>1</td>\n",
       "      <td>0</td>\n",
       "      <td>0</td>\n",
       "      <td>0</td>\n",
       "      <td>1</td>\n",
       "      <td>0</td>\n",
       "      <td>0</td>\n",
       "      <td>0</td>\n",
       "      <td>...</td>\n",
       "      <td>0</td>\n",
       "      <td>0</td>\n",
       "      <td>0</td>\n",
       "      <td>0</td>\n",
       "      <td>0</td>\n",
       "      <td>0</td>\n",
       "      <td>0</td>\n",
       "      <td>0</td>\n",
       "      <td>0</td>\n",
       "      <td>0.0</td>\n",
       "    </tr>\n",
       "    <tr>\n",
       "      <th>3</th>\n",
       "      <td>10000</td>\n",
       "      <td>1</td>\n",
       "      <td>0</td>\n",
       "      <td>0</td>\n",
       "      <td>0</td>\n",
       "      <td>0</td>\n",
       "      <td>1</td>\n",
       "      <td>0</td>\n",
       "      <td>0</td>\n",
       "      <td>0</td>\n",
       "      <td>...</td>\n",
       "      <td>0</td>\n",
       "      <td>0</td>\n",
       "      <td>0</td>\n",
       "      <td>0</td>\n",
       "      <td>0</td>\n",
       "      <td>1</td>\n",
       "      <td>0</td>\n",
       "      <td>0</td>\n",
       "      <td>0</td>\n",
       "      <td>1.0</td>\n",
       "    </tr>\n",
       "    <tr>\n",
       "      <th>5</th>\n",
       "      <td>10000</td>\n",
       "      <td>0</td>\n",
       "      <td>1</td>\n",
       "      <td>0</td>\n",
       "      <td>1</td>\n",
       "      <td>0</td>\n",
       "      <td>0</td>\n",
       "      <td>0</td>\n",
       "      <td>0</td>\n",
       "      <td>0</td>\n",
       "      <td>...</td>\n",
       "      <td>0</td>\n",
       "      <td>0</td>\n",
       "      <td>0</td>\n",
       "      <td>0</td>\n",
       "      <td>0</td>\n",
       "      <td>0</td>\n",
       "      <td>1</td>\n",
       "      <td>0</td>\n",
       "      <td>0</td>\n",
       "      <td>2.0</td>\n",
       "    </tr>\n",
       "    <tr>\n",
       "      <th>7</th>\n",
       "      <td>20000</td>\n",
       "      <td>0</td>\n",
       "      <td>1</td>\n",
       "      <td>0</td>\n",
       "      <td>0</td>\n",
       "      <td>0</td>\n",
       "      <td>0</td>\n",
       "      <td>1</td>\n",
       "      <td>0</td>\n",
       "      <td>0</td>\n",
       "      <td>...</td>\n",
       "      <td>0</td>\n",
       "      <td>0</td>\n",
       "      <td>1</td>\n",
       "      <td>0</td>\n",
       "      <td>0</td>\n",
       "      <td>0</td>\n",
       "      <td>0</td>\n",
       "      <td>1</td>\n",
       "      <td>0</td>\n",
       "      <td>3.0</td>\n",
       "    </tr>\n",
       "    <tr>\n",
       "      <th>8</th>\n",
       "      <td>10000</td>\n",
       "      <td>0</td>\n",
       "      <td>1</td>\n",
       "      <td>1</td>\n",
       "      <td>0</td>\n",
       "      <td>0</td>\n",
       "      <td>0</td>\n",
       "      <td>0</td>\n",
       "      <td>0</td>\n",
       "      <td>0</td>\n",
       "      <td>...</td>\n",
       "      <td>0</td>\n",
       "      <td>0</td>\n",
       "      <td>1</td>\n",
       "      <td>0</td>\n",
       "      <td>1</td>\n",
       "      <td>1</td>\n",
       "      <td>0</td>\n",
       "      <td>0</td>\n",
       "      <td>0</td>\n",
       "      <td>4.0</td>\n",
       "    </tr>\n",
       "  </tbody>\n",
       "</table>\n",
       "<p>5 rows × 391 columns</p>\n",
       "</div>"
      ],
      "text/plain": [
       "   Q9_New  Q1_Female  Q1_Male  Q2_18-21  Q2_22-24  Q2_25-29  Q2_30-34  \\\n",
       "2   20000          0        1         0         0         0         1   \n",
       "3   10000          1        0         0         0         0         1   \n",
       "5   10000          0        1         0         1         0         0   \n",
       "7   20000          0        1         0         0         0         0   \n",
       "8   10000          0        1         1         0         0         0   \n",
       "\n",
       "   Q2_35-39  Q2_40-44  Q2_45-49  ...  Q30_Part_22  Q30_Part_23  Q30_Part_24  \\\n",
       "2         0         0         0  ...            0            0            0   \n",
       "3         0         0         0  ...            0            0            0   \n",
       "5         0         0         0  ...            0            0            0   \n",
       "7         1         0         0  ...            0            0            1   \n",
       "8         0         0         0  ...            0            0            1   \n",
       "\n",
       "   Q30_Part_25  Q42_Part_1  Q42_Part_2  Q42_Part_3  Q42_Part_4  Q42_Part_5  \\\n",
       "2            0           0           0           0           0           0   \n",
       "3            0           0           1           0           0           0   \n",
       "5            0           0           0           1           0           0   \n",
       "7            0           0           0           0           1           0   \n",
       "8            0           1           1           0           0           0   \n",
       "\n",
       "   index  \n",
       "2    0.0  \n",
       "3    1.0  \n",
       "5    2.0  \n",
       "7    3.0  \n",
       "8    4.0  \n",
       "\n",
       "[5 rows x 391 columns]"
      ]
     },
     "execution_count": 73,
     "metadata": {},
     "output_type": "execute_result"
    }
   ],
   "source": [
    "Final_Salaries2.head()"
   ]
  },
  {
   "cell_type": "code",
   "execution_count": 74,
   "metadata": {},
   "outputs": [],
   "source": [
    "y1 = Final_Salaries2.pop('Q9_New')\n",
    "X1 = Final_Salaries2.drop(['index'], axis = 1)"
   ]
  },
  {
   "cell_type": "markdown",
   "metadata": {},
   "source": [
    "### Performing feature selection on the new data set"
   ]
  },
  {
   "cell_type": "code",
   "execution_count": 75,
   "metadata": {},
   "outputs": [
    {
     "data": {
      "text/plain": [
       "SelectFromModel(estimator=LogisticRegression(C=0.02, class_weight=None,\n",
       "                                             dual=False, fit_intercept=True,\n",
       "                                             intercept_scaling=1, l1_ratio=None,\n",
       "                                             max_iter=100, multi_class='ovr',\n",
       "                                             n_jobs=None, penalty='l1',\n",
       "                                             random_state=0, solver='saga',\n",
       "                                             tol=0.0001, verbose=0,\n",
       "                                             warm_start=False),\n",
       "                max_features=None, norm_order=1, prefit=False, threshold=None)"
      ]
     },
     "execution_count": 75,
     "metadata": {},
     "output_type": "execute_result"
    }
   ],
   "source": [
    "sel_ = SelectFromModel(LogisticRegression(C=0.02, penalty='l1', random_state = 0, multi_class='ovr', solver='saga'))\n",
    "sel_.fit(X1, y1)"
   ]
  },
  {
   "cell_type": "code",
   "execution_count": 76,
   "metadata": {},
   "outputs": [
    {
     "data": {
      "text/plain": [
       "['Q2_18-21',\n",
       " 'Q2_22-24',\n",
       " 'Q2_25-29',\n",
       " 'Q2_30-34',\n",
       " 'Q2_35-39',\n",
       " 'Q2_45-49',\n",
       " 'Q3_Canada',\n",
       " 'Q3_France',\n",
       " 'Q3_Germany',\n",
       " 'Q3_India',\n",
       " 'Q3_Other',\n",
       " 'Q3_Russia',\n",
       " 'Q3_Spain',\n",
       " 'Q3_United Kingdom of Great Britain and Northern Ireland',\n",
       " 'Q3_United States of America',\n",
       " 'Q4_Bachelor’s degree',\n",
       " 'Q4_Doctoral degree',\n",
       " 'Q4_Master’s degree',\n",
       " 'Q5_Computer science (software engineering, etc.)',\n",
       " 'Q6_Data Analyst',\n",
       " 'Q6_Data Scientist',\n",
       " 'Q6_Research Assistant',\n",
       " 'Q6_Research Scientist',\n",
       " 'Q6_Student',\n",
       " 'Q7_Academics/Education',\n",
       " 'Q7_Accounting/Finance',\n",
       " 'Q7_Computers/Technology',\n",
       " 'Q7_I am a student',\n",
       " 'Q8_0-1',\n",
       " 'Q8_1-2',\n",
       " 'Q8_2-3',\n",
       " 'Q10_I do not know',\n",
       " 'Q10_No',\n",
       " 'Q10_We are exploring ML methods (and may one day put a model into production)',\n",
       " 'Q10_Yes',\n",
       " 'Q12_Basic statistical software (Microsoft Excel, Google Sheets, etc.)',\n",
       " 'Q20_TensorFlow',\n",
       " 'Q22_Seaborn',\n",
       " 'Q22_ggplot2',\n",
       " 'Q24_1-2 years',\n",
       " 'Q24_10-20 years',\n",
       " 'Q24_3-5 years',\n",
       " 'Q24_5-10 years',\n",
       " 'Q24_< 1 year',\n",
       " 'Q25_1-2 years',\n",
       " 'Q25_< 1 year',\n",
       " 'Q11_Part_1',\n",
       " 'Q11_Part_2',\n",
       " 'Q11_Part_4',\n",
       " 'Q11_Part_5',\n",
       " 'Q13_Part_2',\n",
       " 'Q13_Part_9',\n",
       " 'Q13_Part_11',\n",
       " 'Q14_Part_10',\n",
       " 'Q15_Part_2',\n",
       " 'Q15_Part_3',\n",
       " 'Q15_Part_6',\n",
       " 'Q27_Part_1',\n",
       " 'Q29_Part_9',\n",
       " 'Q29_Part_11',\n",
       " 'Q30_Part_9',\n",
       " 'Q30_Part_24',\n",
       " 'Q42_Part_1',\n",
       " 'Q42_Part_2']"
      ]
     },
     "execution_count": 76,
     "metadata": {},
     "output_type": "execute_result"
    }
   ],
   "source": [
    "cols_sel = list(X1.columns[sel_.get_support()])\n",
    "cols_sel"
   ]
  },
  {
   "cell_type": "code",
   "execution_count": 77,
   "metadata": {},
   "outputs": [],
   "source": [
    "cols_sep = ['Q2_', 'Q3_', 'Q8_', 'Q10_']\n",
    "cd = []\n",
    "for i in cols_sep:\n",
    "    cd.append(X1.filter(regex=i).columns)\n",
    "    \n",
    "new = list(itertools.chain.from_iterable(cd))"
   ]
  },
  {
   "cell_type": "code",
   "execution_count": 78,
   "metadata": {},
   "outputs": [],
   "source": [
    "for i in new:\n",
    "    if i not in cols_sel:\n",
    "        cols_sel.append(i)"
   ]
  },
  {
   "cell_type": "code",
   "execution_count": 79,
   "metadata": {},
   "outputs": [],
   "source": [
    "X1_selected = X1[cols_sel]\n",
    "X1_train, X1_test, y1_train, y1_test = train_test_split(X1_selected, y1, random_state=0, test_size=0.3, stratify = y1)"
   ]
  },
  {
   "cell_type": "code",
   "execution_count": 80,
   "metadata": {
    "scrolled": false
   },
   "outputs": [
    {
     "name": "stdout",
     "output_type": "stream",
     "text": [
      "Fold 1: Accuracy: 44.032%\n",
      "Fold 2: Accuracy: 45.934%\n",
      "Fold 3: Accuracy: 45.221%\n",
      "Fold 4: Accuracy: 44.888%\n",
      "Fold 5: Accuracy: 44.244%\n",
      "Average Score: 44.864%(0.686%)\n"
     ]
    }
   ],
   "source": [
    "model = LogisticRegression(random_state = 0, multi_class='ovr', solver='saga')\n",
    "scaler = StandardScaler()\n",
    "kfold = KFold(n_splits=5)\n",
    "kfold.get_n_splits(X1_train)\n",
    "\n",
    "accuracy = np.zeros(5)\n",
    "np_idx = 0\n",
    "\n",
    "for train_idx, test_idx in kfold.split(X1_train):\n",
    "    Xnew_train, Xnew_test = X1_train.values[train_idx], X1_train.values[test_idx]\n",
    "    ynew_train, ynew_test = y1_train.values[train_idx], y1_train.values[test_idx]\n",
    "    \n",
    "    Xnew_train = scaler.fit_transform(Xnew_train)\n",
    "    Xnew_test = scaler.transform(Xnew_test)\n",
    "    \n",
    "    model.fit(Xnew_train, ynew_train)\n",
    "    \n",
    "    predictions = model.predict(Xnew_test)\n",
    "    \n",
    "    ACC = accuracy_score(ynew_test, predictions)\n",
    "    \n",
    "    accuracy[np_idx] = ACC*100\n",
    "    np_idx += 1\n",
    "    \n",
    "    print (\"Fold {}: Accuracy: {}%\".format(np_idx, round(ACC*100,3)))   \n",
    "\n",
    "print (\"Average Score: {}%({}%)\".format(round(np.mean(accuracy),3),round(np.std(accuracy),3)))"
   ]
  },
  {
   "cell_type": "markdown",
   "metadata": {},
   "source": [
    "The final accuracy of the model across the 5 folds in cross validation over the training set is better than the previous model. Combining some classes doesn't say that my model is not versatile, even if I had not done this there were very few data sets for some ranges and the model would struggle to classify them and give inaccurate results that's why the accuracy was less for my previous model."
   ]
  },
  {
   "cell_type": "markdown",
   "metadata": {},
   "source": [
    "predict_proba provides the probability for a data set to be present in all of the target classes"
   ]
  },
  {
   "cell_type": "code",
   "execution_count": 81,
   "metadata": {},
   "outputs": [
    {
     "data": {
      "text/html": [
       "<div>\n",
       "<style scoped>\n",
       "    .dataframe tbody tr th:only-of-type {\n",
       "        vertical-align: middle;\n",
       "    }\n",
       "\n",
       "    .dataframe tbody tr th {\n",
       "        vertical-align: top;\n",
       "    }\n",
       "\n",
       "    .dataframe thead th {\n",
       "        text-align: right;\n",
       "    }\n",
       "</style>\n",
       "<table border=\"1\" class=\"dataframe\">\n",
       "  <thead>\n",
       "    <tr style=\"text-align: right;\">\n",
       "      <th></th>\n",
       "      <th>10000</th>\n",
       "      <th>20000</th>\n",
       "      <th>30000</th>\n",
       "      <th>40000</th>\n",
       "      <th>60000</th>\n",
       "      <th>80000</th>\n",
       "      <th>100000</th>\n",
       "      <th>150000</th>\n",
       "    </tr>\n",
       "  </thead>\n",
       "  <tbody>\n",
       "    <tr>\n",
       "      <th>0</th>\n",
       "      <td>0.092559</td>\n",
       "      <td>0.120395</td>\n",
       "      <td>0.083246</td>\n",
       "      <td>0.192024</td>\n",
       "      <td>0.161820</td>\n",
       "      <td>0.137283</td>\n",
       "      <td>0.157551</td>\n",
       "      <td>0.055123</td>\n",
       "    </tr>\n",
       "    <tr>\n",
       "      <th>1</th>\n",
       "      <td>0.086548</td>\n",
       "      <td>0.126646</td>\n",
       "      <td>0.091847</td>\n",
       "      <td>0.176034</td>\n",
       "      <td>0.132795</td>\n",
       "      <td>0.127813</td>\n",
       "      <td>0.185353</td>\n",
       "      <td>0.072964</td>\n",
       "    </tr>\n",
       "    <tr>\n",
       "      <th>2</th>\n",
       "      <td>0.335992</td>\n",
       "      <td>0.202553</td>\n",
       "      <td>0.116113</td>\n",
       "      <td>0.176228</td>\n",
       "      <td>0.078891</td>\n",
       "      <td>0.056123</td>\n",
       "      <td>0.031775</td>\n",
       "      <td>0.002324</td>\n",
       "    </tr>\n",
       "    <tr>\n",
       "      <th>3</th>\n",
       "      <td>0.591059</td>\n",
       "      <td>0.136126</td>\n",
       "      <td>0.046749</td>\n",
       "      <td>0.118587</td>\n",
       "      <td>0.065043</td>\n",
       "      <td>0.024458</td>\n",
       "      <td>0.016706</td>\n",
       "      <td>0.001273</td>\n",
       "    </tr>\n",
       "    <tr>\n",
       "      <th>4</th>\n",
       "      <td>0.237663</td>\n",
       "      <td>0.264786</td>\n",
       "      <td>0.140181</td>\n",
       "      <td>0.179819</td>\n",
       "      <td>0.074957</td>\n",
       "      <td>0.041615</td>\n",
       "      <td>0.050522</td>\n",
       "      <td>0.010456</td>\n",
       "    </tr>\n",
       "  </tbody>\n",
       "</table>\n",
       "</div>"
      ],
      "text/plain": [
       "     10000     20000     30000     40000     60000     80000     100000  \\\n",
       "0  0.092559  0.120395  0.083246  0.192024  0.161820  0.137283  0.157551   \n",
       "1  0.086548  0.126646  0.091847  0.176034  0.132795  0.127813  0.185353   \n",
       "2  0.335992  0.202553  0.116113  0.176228  0.078891  0.056123  0.031775   \n",
       "3  0.591059  0.136126  0.046749  0.118587  0.065043  0.024458  0.016706   \n",
       "4  0.237663  0.264786  0.140181  0.179819  0.074957  0.041615  0.050522   \n",
       "\n",
       "     150000  \n",
       "0  0.055123  \n",
       "1  0.072964  \n",
       "2  0.002324  \n",
       "3  0.001273  \n",
       "4  0.010456  "
      ]
     },
     "execution_count": 81,
     "metadata": {},
     "output_type": "execute_result"
    }
   ],
   "source": [
    "probab_predict = pd.DataFrame(model.predict_proba(X1_train), columns = model.classes_)\n",
    "probab_predict.head()"
   ]
  },
  {
   "cell_type": "code",
   "execution_count": 82,
   "metadata": {},
   "outputs": [],
   "source": [
    "labels = ['0-10,000', '10-20,000', '20-30,000', '30-50,000', '50-70,000', '70-90,000', '90-125,000', '125-500,000']"
   ]
  },
  {
   "cell_type": "code",
   "execution_count": 83,
   "metadata": {},
   "outputs": [
    {
     "data": {
      "image/png": "[encoded data removed]",
      "text/plain": [
       "<Figure size 720x432 with 1 Axes>"
      ]
     },
     "metadata": {
      "needs_background": "light"
     },
     "output_type": "display_data"
    }
   ],
   "source": [
    "plt.figure(figsize=(10,6))\n",
    "plt.bar(labels, probab_predict.iloc[2])\n",
    "plt.xlabel('Salary Range')\n",
    "plt.ylabel('Probability')\n",
    "plt.title('Probability distribution for train set')\n",
    "plt.show()  "
   ]
  },
  {
   "cell_type": "markdown",
   "metadata": {},
   "source": [
    "Let us create a function that visualizes the accuracy of the models we are building. It plots as a continuous line the mean values of the scores of the chosen estimator for two data sets, and a coloured band around the mean line, i.e., the interval (mean - standard deviation, mean + standard deviation).\n",
    "\n",
    "plot_learning_curve() uses in turn the function sklearn.learning_curve.learning_curve(), which determines cross-validated training and test scores for different training set sizes. An (optional) cross-validation generator splits the given dataset k times in training and test data. Subsets of the training set with varying sizes will be used to train the estimator and a score for each training subset size and the test set will be computed. The scores are averaged over all k runs for each training subset size."
   ]
  },
  {
   "cell_type": "code",
   "execution_count": 84,
   "metadata": {},
   "outputs": [],
   "source": [
    "def plot_learning_curve(estimator, title, X, y, ylim=None, cv=None, n_jobs=1,\\\n",
    "                        train_sizes=np.linspace(.1, 1.0, 5), scoring='accuracy'):\n",
    "    \n",
    "    plt.figure(figsize=(10,6))\n",
    "    plt.title(title)\n",
    "    \n",
    "    if ylim is not None:\n",
    "        plt.ylim(*ylim)\n",
    "        \n",
    "    plt.xlabel(\"Training examples\")\n",
    "    plt.ylabel(scoring)\n",
    "    \n",
    "    train_sizes, train_scores, test_scores = learning_curve(estimator, X, y, cv=cv, scoring=scoring, n_jobs=n_jobs, train_sizes=train_sizes)\n",
    "    train_scores_mean = np.mean(train_scores, axis=1)\n",
    "    train_scores_std = np.std(train_scores, axis=1)\n",
    "    test_scores_mean = np.mean(test_scores, axis=1)\n",
    "    test_scores_std = np.std(test_scores, axis=1)\n",
    "    \n",
    "    plt.grid()\n",
    "\n",
    "    plt.fill_between(train_sizes, train_scores_mean - train_scores_std,\\\n",
    "                     train_scores_mean + train_scores_std, alpha=0.1, \\\n",
    "                     color=\"r\")\n",
    "    plt.fill_between(train_sizes, test_scores_mean - test_scores_std,\\\n",
    "                     test_scores_mean + test_scores_std, alpha=0.1, color=\"g\")\n",
    "    \n",
    "    plt.plot(train_sizes, train_scores_mean, 'o-', color=\"r\",label=\"Training score\")\n",
    "    plt.plot(train_sizes, test_scores_mean, 'o-', color=\"g\", label=\"Cross-validation score\")\n",
    "    plt.legend(loc=\"best\")\n",
    "    \n",
    "    return plt"
   ]
  },
  {
   "cell_type": "code",
   "execution_count": 85,
   "metadata": {
    "scrolled": false
   },
   "outputs": [
    {
     "data": {
      "image/png": "[encoded data removed]",
      "text/plain": [
       "<Figure size 720x432 with 1 Axes>"
      ]
     },
     "metadata": {
      "needs_background": "light"
     },
     "output_type": "display_data"
    }
   ],
   "source": [
    "plot_learning_curve(model,'Logistic Regression', X1_train, y1_train, cv=5)\n",
    "plt.show()"
   ]
  },
  {
   "cell_type": "markdown",
   "metadata": {},
   "source": [
    "## Hyperparameter Tuning, Bias-Variance Tradeoff"
   ]
  },
  {
   "cell_type": "markdown",
   "metadata": {},
   "source": [
    "Performing grid search to give the best hyperparameters. Grid search just builds several models with all the parameter combinations specified, and runs cross validation to return the set of parameters that had the highest cv score on the validation set.\n",
    "\n",
    "As my penalty and c values can vary in a certain range, I am performing the hyperparameter tuning on those only. The tuning is done only on the training set which was originally split."
   ]
  },
  {
   "cell_type": "markdown",
   "metadata": {},
   "source": [
    "For bias and variance tradeoff the log loss error needs to be calculated and thus log loss error is calculated for various c and penalty values."
   ]
  },
  {
   "cell_type": "code",
   "execution_count": 86,
   "metadata": {},
   "outputs": [
    {
     "name": "stdout",
     "output_type": "stream",
     "text": [
      "{'C': 0.08, 'penalty': 'l2'}\n",
      "Best Score: 44.997%(0.526%)\n",
      "\n",
      "The optimal log model uses C=0.08, and a l2 penalty, and has a cross validation score of 44.997% with a standard deviation of 0.526%\n"
     ]
    }
   ],
   "source": [
    "model = LogisticRegression(random_state = 0, multi_class='ovr')\n",
    "scaler = StandardScaler()\n",
    "kfold = KFold(n_splits=5)\n",
    "kfold.get_n_splits(X1_train)\n",
    "\n",
    "best_model = model\n",
    "best_params = {}\n",
    "best_accuracy = 0\n",
    "best_std = 0\n",
    "\n",
    "train_error = np.zeros(20)\n",
    "test_error = np.zeros(20)\n",
    "j = 0\n",
    "for C in [0.01, 0.02, 0.03, 0.04, 0.05, 0.06, 0.07, 0.08, 0.09, 0.1]:\n",
    "    for penalty in ['l1', 'l2']:\n",
    "        \n",
    "        model = LogisticRegression(C=C, solver='saga', penalty = penalty, random_state = 0, multi_class='ovr')\n",
    "        accuracy = np.zeros(5)\n",
    "        trainErr = np.zeros(5)\n",
    "        testErr = np.zeros(5)\n",
    "        np_idx = 0\n",
    "        \n",
    "        for train_idx, test_idx in kfold.split(X1_train):\n",
    "            Xnew_train, Xnew_test = X1_train.values[train_idx], X1_train.values[test_idx]\n",
    "            ynew_train, ynew_test = y1_train.values[train_idx], y1_train.values[test_idx]\n",
    "    \n",
    "            Xnew_train = scaler.fit_transform(Xnew_train)\n",
    "            Xnew_test = scaler.transform(Xnew_test)\n",
    "    \n",
    "            model.fit(Xnew_train, ynew_train)\n",
    "    \n",
    "            predictions = model.predict_proba(Xnew_test)\n",
    "            predictions_train = model.predict_proba(Xnew_train)\n",
    "            \n",
    "            predictions2 = model.predict(Xnew_test)\n",
    "            \n",
    "            trainErr[np_idx] = np.mean(log_loss(ynew_train, predictions_train))\n",
    "            testErr[np_idx] = np.mean(log_loss(ynew_test, predictions))\n",
    "    \n",
    "            ACC = accuracy_score(ynew_test, predictions2)\n",
    "    \n",
    "            accuracy[np_idx] = ACC*100\n",
    "            np_idx += 1\n",
    "            \n",
    "        train_error[j] = np.mean(trainErr)\n",
    "        test_error[j] = np.mean(testErr)\n",
    "        j += 1\n",
    "        \n",
    "        if np.mean(accuracy) > best_accuracy:\n",
    "            best_model = model\n",
    "            best_params = {'C':C, 'penalty':penalty}\n",
    "            best_accuracy = np.mean(accuracy)\n",
    "            best_std = np.std(accuracy)\n",
    "\n",
    "print (best_params)\n",
    "print (\"Best Score: {}%({}%)\".format(round(best_accuracy,3),round(best_std,3)))      \n",
    "\n",
    "print (\"\\nThe optimal log model uses C={}, and a {} penalty, and has a cross validation score of {}% with a standard deviation of {}%\".format(best_params['C'],best_params['penalty'],round(best_accuracy,3),round(best_std,3)))"
   ]
  },
  {
   "cell_type": "markdown",
   "metadata": {},
   "source": [
    "The errors need to be reshaped as we got error for both the penalties and C values thus, reshaping them in (10, 2) the first column would give us errors for L1 penalty and the second column would give us errors for L2 penalty. Thus, plotting the log loss curves for both L1 and L2 penalty. "
   ]
  },
  {
   "cell_type": "code",
   "execution_count": 87,
   "metadata": {},
   "outputs": [],
   "source": [
    "train_error = train_error.reshape(10,2)\n",
    "test_error = test_error.reshape(10,2)"
   ]
  },
  {
   "cell_type": "markdown",
   "metadata": {},
   "source": [
    "Log Loss error plot for L1 Penalty"
   ]
  },
  {
   "cell_type": "code",
   "execution_count": 88,
   "metadata": {},
   "outputs": [
    {
     "data": {
      "image/png": "[encoded data removed]",
      "text/plain": [
       "<Figure size 864x360 with 1 Axes>"
      ]
     },
     "metadata": {
      "needs_background": "light"
     },
     "output_type": "display_data"
    }
   ],
   "source": [
    "plt.figure(figsize=(12,5))\n",
    "\n",
    "\n",
    "plt.plot(train_error[:,0],'r',label='Training Error')\n",
    "plt.plot(test_error[:,0],'g',label='Testing Error')\n",
    "# plt.plot(train_error[:,0] + test_error[:,0], 'b', label='Total Error')\n",
    "\n",
    "test_loss_min = test_error[:,0].min()\n",
    "deg_min = test_error[:,0].argmin()\n",
    "\n",
    "#Annotate the plot:plt.annotate(text,pointing coordinates,text coordinates,arrowproperty={})\n",
    "plt.annotate('Minimum Test Loss (%.4f)' % test_loss_min,xy=(deg_min,test_loss_min),xytext=(deg_min,test_loss_min+0.001),arrowprops=dict(width=3,headwidth=15,facecolor='r',shrink=0.05))\n",
    "\n",
    "plt.title(\"Log Loss Error for L1 Penalty\")\n",
    "plt.xlabel(\"complexity\")\n",
    "plt.ylabel(\"Log Loss error\")\n",
    "plt.legend(loc=1)\n",
    "plt.show()"
   ]
  },
  {
   "cell_type": "markdown",
   "metadata": {},
   "source": [
    "Log Loss error plot for L2 Penalty"
   ]
  },
  {
   "cell_type": "code",
   "execution_count": 89,
   "metadata": {
    "scrolled": false
   },
   "outputs": [
    {
     "data": {
      "image/png": "[encoded data removed]",
      "text/plain": [
       "<Figure size 864x360 with 1 Axes>"
      ]
     },
     "metadata": {
      "needs_background": "light"
     },
     "output_type": "display_data"
    }
   ],
   "source": [
    "plt.figure(figsize=(12,5))\n",
    "\n",
    "\n",
    "plt.plot(train_error[:,1],'r',label='Training Error')\n",
    "plt.plot(test_error[:,1],'g',label='Testing Error')\n",
    "# plt.plot(train_error[:,1] + test_error[:,1], 'b', label='Total Error')\n",
    "\n",
    "test_loss_min = test_error[:,1].min()\n",
    "deg_min = test_error[:,1].argmin()\n",
    "\n",
    "#Annotate the plot:plt.annotate(text,pointing coordinates,text coordinates,arrowproperty={})\n",
    "plt.annotate('Minimum Test Loss (%.4f)' % test_loss_min,xy=(deg_min,test_loss_min),xytext=(deg_min,test_loss_min+0.001),arrowprops=dict(width=5,headwidth=15,facecolor='r',shrink=0.05))\n",
    "\n",
    "plt.title(\"Log Loss Error for L2 Penalty\")\n",
    "plt.xlabel(\"complexity\")\n",
    "plt.ylabel(\"Log Loss error\")\n",
    "plt.legend(loc=1)\n",
    "plt.show()"
   ]
  },
  {
   "cell_type": "code",
   "execution_count": 90,
   "metadata": {},
   "outputs": [
    {
     "data": {
      "image/png": "[encoded data removed]",
      "text/plain": [
       "<Figure size 720x432 with 1 Axes>"
      ]
     },
     "metadata": {
      "needs_background": "light"
     },
     "output_type": "display_data"
    }
   ],
   "source": [
    "probab_predict_test1 = pd.DataFrame(model.predict_proba(X1_test), columns = model.classes_)\n",
    "probab_predict_test1.head()\n",
    "\n",
    "plt.figure(figsize=(10,6))\n",
    "plt.bar(labels, probab_predict_test1.iloc[0])\n",
    "plt.xlabel('Salary Range')\n",
    "plt.ylabel('Probability')\n",
    "plt.title('Probability distribution for test set')\n",
    "plt.show()  "
   ]
  },
  {
   "cell_type": "markdown",
   "metadata": {},
   "source": [
    "### Optimal Model Implementation"
   ]
  },
  {
   "cell_type": "markdown",
   "metadata": {},
   "source": [
    "After Hyperparameter tuning I got C value = 0.08 and penalty as l2 which gives the best accuracy on cross validation, thus implementing the model with these parameters in the model and checking the accuracy on the previously split train and test data set. If I resplit the data with new values then there would be no apple to apple comaprison for accuracy on train set."
   ]
  },
  {
   "cell_type": "code",
   "execution_count": 91,
   "metadata": {},
   "outputs": [
    {
     "name": "stdout",
     "output_type": "stream",
     "text": [
      "Fold 1:  Testing Accuracy: 44.27%\n",
      "Fold 1:  Training Accuracy: 48.627%\n",
      "Fold 2:  Testing Accuracy: 45.839%\n",
      "Fold 2:  Training Accuracy: 48.698%\n",
      "Fold 3:  Testing Accuracy: 45.078%\n",
      "Fold 3:  Training Accuracy: 48.817%\n",
      "Fold 4:  Testing Accuracy: 44.983%\n",
      "Fold 4:  Training Accuracy: 48.591%\n",
      "Fold 5:  Testing Accuracy: 44.529%\n",
      "Fold 5:  Training Accuracy: 48.692%\n",
      "Testing Average Score: 44.94%(0.538%)\n",
      "Training Average Score: 48.685%(0.077%)\n"
     ]
    }
   ],
   "source": [
    "model1 = LogisticRegression(C=0.08, penalty='l2', random_state = 0, multi_class='ovr', solver='saga')\n",
    "scaler = StandardScaler()\n",
    "kfold = KFold(n_splits=5)\n",
    "kfold.get_n_splits(X1_train)\n",
    "\n",
    "accuracy = np.zeros(5)\n",
    "accuracy_train = np.zeros(5)\n",
    "np_idx = 0\n",
    "\n",
    "for train_idx, test_idx in kfold.split(X1_train):\n",
    "    Xnew1_train, Xnew1_test = X1_train.values[train_idx], X1_train.values[test_idx]\n",
    "    ynew1_train, ynew1_test = y1_train.values[train_idx], y1_train.values[test_idx]\n",
    "    \n",
    "    Xnew1_train = scaler.fit_transform(Xnew1_train)\n",
    "    Xnew1_test = scaler.transform(Xnew1_test)\n",
    "    \n",
    "    model.fit(Xnew1_train, ynew1_train)\n",
    "    \n",
    "    predictions_test = model.predict(Xnew1_test)\n",
    "    predictions1_train = model.predict(Xnew1_train)\n",
    "    \n",
    "    ACC1 = accuracy_score(ynew1_test, predictions_test)\n",
    "    ACC2 = accuracy_score(ynew1_train, predictions1_train)\n",
    "    accuracy[np_idx] = ACC1*100\n",
    "    accuracy_train[np_idx] = ACC2*100\n",
    "    np_idx += 1\n",
    "    \n",
    "    print (\"Fold {}:  Testing Accuracy: {}%\".format(np_idx, round(ACC1*100,3)))\n",
    "    print (\"Fold {}:  Training Accuracy: {}%\".format(np_idx, round(ACC2*100,3)))   \n",
    "\n",
    "print (\"Testing Average Score: {}%({}%)\".format(round(np.mean(accuracy),3),round(np.std(accuracy),3)))\n",
    "print (\"Training Average Score: {}%({}%)\".format(round(np.mean(accuracy_train),3),round(np.std(accuracy_train),3)))"
   ]
  },
  {
   "cell_type": "code",
   "execution_count": 92,
   "metadata": {},
   "outputs": [
    {
     "data": {
      "image/png": "[encoded data removed]",
      "text/plain": [
       "<Figure size 720x432 with 1 Axes>"
      ]
     },
     "metadata": {
      "needs_background": "light"
     },
     "output_type": "display_data"
    }
   ],
   "source": [
    "plot_learning_curve(model1,'Logistic Regression', X1_train, y1_train, cv=5)\n",
    "plt.show()"
   ]
  },
  {
   "cell_type": "markdown",
   "metadata": {},
   "source": [
    "### Model implementation on the testing set"
   ]
  },
  {
   "cell_type": "code",
   "execution_count": 93,
   "metadata": {},
   "outputs": [
    {
     "name": "stdout",
     "output_type": "stream",
     "text": [
      "Testing accuracy: 44.474%\n"
     ]
    }
   ],
   "source": [
    "model1 = LogisticRegression(C=0.08, penalty='l2', random_state = 0, multi_class='ovr', solver='saga')\n",
    "scaler = StandardScaler()\n",
    "X1_train = scaler.fit_transform(X1_train)\n",
    "X1_test = scaler.transform(X1_test)\n",
    "model.fit(X1_train, y1_train)\n",
    "predictions_test = model.predict(X1_test)\n",
    "ACC_test = accuracy_score(y1_test, predictions_test)\n",
    "print('Testing accuracy: {}%'.format(round(ACC_test*100,3)))"
   ]
  },
  {
   "cell_type": "markdown",
   "metadata": {},
   "source": [
    "Testing accuracy is less than the training accuracy thus the model is not overfit, but it is underfitting the data set. The accuracy can still further be increased if the target classes are further clubbed, I tried with 5 classes in the target and I got an accuracy of 71%, but I chose not to take that as the classes were too wide and it will not predict the persons actual salary bucket and would give a vague idea which is not the good way to approach the task."
   ]
  },
  {
   "cell_type": "code",
   "execution_count": 94,
   "metadata": {},
   "outputs": [
    {
     "data": {
      "text/html": [
       "<div>\n",
       "<style scoped>\n",
       "    .dataframe tbody tr th:only-of-type {\n",
       "        vertical-align: middle;\n",
       "    }\n",
       "\n",
       "    .dataframe tbody tr th {\n",
       "        vertical-align: top;\n",
       "    }\n",
       "\n",
       "    .dataframe thead th {\n",
       "        text-align: right;\n",
       "    }\n",
       "</style>\n",
       "<table border=\"1\" class=\"dataframe\">\n",
       "  <thead>\n",
       "    <tr style=\"text-align: right;\">\n",
       "      <th></th>\n",
       "      <th>10000</th>\n",
       "      <th>20000</th>\n",
       "      <th>30000</th>\n",
       "      <th>40000</th>\n",
       "      <th>60000</th>\n",
       "      <th>80000</th>\n",
       "      <th>100000</th>\n",
       "      <th>150000</th>\n",
       "    </tr>\n",
       "  </thead>\n",
       "  <tbody>\n",
       "    <tr>\n",
       "      <th>0</th>\n",
       "      <td>0.642558</td>\n",
       "      <td>0.136073</td>\n",
       "      <td>0.071475</td>\n",
       "      <td>0.092729</td>\n",
       "      <td>0.031421</td>\n",
       "      <td>0.014573</td>\n",
       "      <td>0.009610</td>\n",
       "      <td>0.001560</td>\n",
       "    </tr>\n",
       "    <tr>\n",
       "      <th>1</th>\n",
       "      <td>0.244226</td>\n",
       "      <td>0.130912</td>\n",
       "      <td>0.295237</td>\n",
       "      <td>0.297511</td>\n",
       "      <td>0.025867</td>\n",
       "      <td>0.005080</td>\n",
       "      <td>0.001113</td>\n",
       "      <td>0.000055</td>\n",
       "    </tr>\n",
       "    <tr>\n",
       "      <th>2</th>\n",
       "      <td>0.275649</td>\n",
       "      <td>0.230197</td>\n",
       "      <td>0.120963</td>\n",
       "      <td>0.115526</td>\n",
       "      <td>0.061353</td>\n",
       "      <td>0.025257</td>\n",
       "      <td>0.081502</td>\n",
       "      <td>0.089552</td>\n",
       "    </tr>\n",
       "    <tr>\n",
       "      <th>3</th>\n",
       "      <td>0.046256</td>\n",
       "      <td>0.322245</td>\n",
       "      <td>0.147841</td>\n",
       "      <td>0.095501</td>\n",
       "      <td>0.161670</td>\n",
       "      <td>0.028518</td>\n",
       "      <td>0.125974</td>\n",
       "      <td>0.071995</td>\n",
       "    </tr>\n",
       "    <tr>\n",
       "      <th>4</th>\n",
       "      <td>0.219943</td>\n",
       "      <td>0.242831</td>\n",
       "      <td>0.266522</td>\n",
       "      <td>0.156567</td>\n",
       "      <td>0.067842</td>\n",
       "      <td>0.018849</td>\n",
       "      <td>0.021778</td>\n",
       "      <td>0.005667</td>\n",
       "    </tr>\n",
       "  </tbody>\n",
       "</table>\n",
       "</div>"
      ],
      "text/plain": [
       "     10000     20000     30000     40000     60000     80000     100000  \\\n",
       "0  0.642558  0.136073  0.071475  0.092729  0.031421  0.014573  0.009610   \n",
       "1  0.244226  0.130912  0.295237  0.297511  0.025867  0.005080  0.001113   \n",
       "2  0.275649  0.230197  0.120963  0.115526  0.061353  0.025257  0.081502   \n",
       "3  0.046256  0.322245  0.147841  0.095501  0.161670  0.028518  0.125974   \n",
       "4  0.219943  0.242831  0.266522  0.156567  0.067842  0.018849  0.021778   \n",
       "\n",
       "     150000  \n",
       "0  0.001560  \n",
       "1  0.000055  \n",
       "2  0.089552  \n",
       "3  0.071995  \n",
       "4  0.005667  "
      ]
     },
     "execution_count": 94,
     "metadata": {},
     "output_type": "execute_result"
    }
   ],
   "source": [
    "probab_predict_test = pd.DataFrame(model.predict_proba(X1_test), columns = model.classes_)\n",
    "probab_predict_test.head()"
   ]
  },
  {
   "cell_type": "code",
   "execution_count": 95,
   "metadata": {},
   "outputs": [],
   "source": [
    "labels = ['0-10,000', '10-20,000', '20-30,000', '30-50,000', '50-70,000', '70-90,000', '90-125,000', '125-500,000']"
   ]
  },
  {
   "cell_type": "code",
   "execution_count": 96,
   "metadata": {},
   "outputs": [
    {
     "data": {
      "image/png": "[encoded data removed]",
      "text/plain": [
       "<Figure size 720x432 with 1 Axes>"
      ]
     },
     "metadata": {
      "needs_background": "light"
     },
     "output_type": "display_data"
    }
   ],
   "source": [
    "plt.figure(figsize=(10,6))\n",
    "plt.bar(labels, probab_predict_test.iloc[0])\n",
    "plt.xlabel('Salary Range')\n",
    "plt.ylabel('Probability')\n",
    "plt.title('Probability distribution on test set')\n",
    "plt.show()  "
   ]
  }
 ],
 "metadata": {
  "kernelspec": {
   "display_name": "Python 3",
   "language": "python",
   "name": "python3"
  },
  "language_info": {
   "codemirror_mode": {
    "name": "ipython",
    "version": 3
   },
   "file_extension": ".py",
   "mimetype": "text/x-python",
   "name": "python",
   "nbconvert_exporter": "python",
   "pygments_lexer": "ipython3",
   "version": "3.7.3"
  },
  "widgets": {
   "state": {},
   "version": "1.1.2"
  }
 },
 "nbformat": 4,
 "nbformat_minor": 2
}
